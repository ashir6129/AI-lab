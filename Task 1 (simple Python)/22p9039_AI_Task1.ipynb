{
 "cells": [
  {
   "cell_type": "markdown",
   "id": "c5b91dc9-88be-4016-9887-5f488a01d83b",
   "metadata": {},
   "source": [
    "<h2>Prnting Hello World</h2>"
   ]
  },
  {
   "cell_type": "code",
   "execution_count": 6,
   "id": "22f1b503-b4ad-4555-b275-c73e3045d1ab",
   "metadata": {},
   "outputs": [
    {
     "name": "stdout",
     "output_type": "stream",
     "text": [
      "Hello World\n"
     ]
    }
   ],
   "source": [
    "print(\"Hello World\")"
   ]
  },
  {
   "cell_type": "markdown",
   "id": "bd4ab5bb-fa61-464c-95e3-39c7988c1c5a",
   "metadata": {},
   "source": [
    "<h2>Creating Variables</h2>"
   ]
  },
  {
   "cell_type": "code",
   "execution_count": 8,
   "id": "3c23048c-e34d-4735-83c9-b0405bea9a8c",
   "metadata": {},
   "outputs": [
    {
     "name": "stdout",
     "output_type": "stream",
     "text": [
      "6\n",
      "Ashir Khan\n"
     ]
    }
   ],
   "source": [
    "x = 6\n",
    "y = \"Ashir Khan\"\n",
    "print(x)\n",
    "print(y)"
   ]
  },
  {
   "cell_type": "code",
   "execution_count": 11,
   "id": "3e884cd1-9663-45eb-b1df-c48c05eebb33",
   "metadata": {},
   "outputs": [
    {
     "name": "stdout",
     "output_type": "stream",
     "text": [
      "Hamza\n"
     ]
    }
   ],
   "source": [
    "x = 5\n",
    "x = \"Hamza\" #x is now a type of string previously it was integer\n",
    "print(x)"
   ]
  },
  {
   "cell_type": "markdown",
   "id": "0831ae6e-a2e5-499c-92a3-e2030a55a582",
   "metadata": {},
   "source": [
    "<h2>Casting</h2>\n"
   ]
  },
  {
   "cell_type": "code",
   "execution_count": 14,
   "id": "c7d9e979-2eff-4dce-8dba-e2d56097b674",
   "metadata": {},
   "outputs": [
    {
     "name": "stdout",
     "output_type": "stream",
     "text": [
      "5\n",
      "6\n",
      "7.0\n"
     ]
    }
   ],
   "source": [
    "x = str(5)    #5 will be taken as string\n",
    "y = int(6)    \n",
    "z = float(7)  \n",
    "print(x)\n",
    "print(y)\n",
    "print(z)"
   ]
  },
  {
   "cell_type": "markdown",
   "id": "023b1190-9dde-46a4-aafa-08e367ccf404",
   "metadata": {},
   "source": [
    "<h1>Variable names are case Senstive in Python</h2>"
   ]
  },
  {
   "cell_type": "code",
   "execution_count": 35,
   "id": "ef7c055d-d77b-4114-ae25-0741093cac6a",
   "metadata": {},
   "outputs": [
    {
     "name": "stdout",
     "output_type": "stream",
     "text": [
      "6\n",
      "Sally\n"
     ]
    }
   ],
   "source": [
    "a = 6\n",
    "A = \"Sally\"\n",
    "print(a)\n",
    "print(A)"
   ]
  },
  {
   "cell_type": "markdown",
   "id": "6eaba1a2-796a-4932-a2d9-441c2f1f4e60",
   "metadata": {},
   "source": [
    "<h2>Many Values to Multiple Variables</h2>"
   ]
  },
  {
   "cell_type": "code",
   "execution_count": 41,
   "id": "82464f63-4766-44f2-852a-c5058944edf4",
   "metadata": {},
   "outputs": [
    {
     "name": "stdout",
     "output_type": "stream",
     "text": [
      "Orange\n",
      "Banana\n",
      "Cherry\n"
     ]
    }
   ],
   "source": [
    "x, y, z = \"Orange\", \"Banana\", \"Cherry\"\n",
    "print(x)\n",
    "print(y)\n",
    "print(z)"
   ]
  },
  {
   "cell_type": "markdown",
   "id": "d6f11686-9808-4079-a8c3-731e2f3883e8",
   "metadata": {},
   "source": [
    "<h2>One Value to Multiple Variables</h2>"
   ]
  },
  {
   "cell_type": "code",
   "execution_count": 42,
   "id": "ba43970f-20bb-43fa-8b06-cd0970da7679",
   "metadata": {},
   "outputs": [
    {
     "name": "stdout",
     "output_type": "stream",
     "text": [
      "Ashir Khan\n",
      "Ashir Khan\n",
      "Ashir Khan\n"
     ]
    }
   ],
   "source": [
    "x = y = z = \"Ashir Khan\"\n",
    "print(x)\n",
    "print(y)\n",
    "print(z)"
   ]
  },
  {
   "cell_type": "markdown",
   "id": "b5343d03-6553-4ca0-abc6-37549dcab58c",
   "metadata": {},
   "source": [
    "<h2>Unpack a Collection</h2>"
   ]
  },
  {
   "cell_type": "code",
   "execution_count": 44,
   "id": "5918a9b6-d649-4acc-bd2d-a1fa2f49db39",
   "metadata": {},
   "outputs": [
    {
     "name": "stdout",
     "output_type": "stream",
     "text": [
      "apple\n",
      "banana\n",
      "cherry\n"
     ]
    }
   ],
   "source": [
    "fruits = [\"apple\", \"banana\", \"cherry\"]\n",
    "x, y, z = fruits\n",
    "print(x)\n",
    "print(y)\n",
    "print(z)"
   ]
  },
  {
   "cell_type": "code",
   "execution_count": 46,
   "id": "0b6f473a-b40f-408e-aa19-a8eaca45aa75",
   "metadata": {},
   "outputs": [
    {
     "name": "stdout",
     "output_type": "stream",
     "text": [
      "banana\n",
      "cherry\n",
      "apple\n"
     ]
    }
   ],
   "source": [
    "#Printing In a reverse order\n",
    "fruits = [\"apple\", \"banana\", \"cherry\"]\n",
    "z, x, y = fruits\n",
    "print(x)\n",
    "print(y)\n",
    "print(z)"
   ]
  },
  {
   "cell_type": "markdown",
   "id": "a7c628df-ed5f-4e06-9df3-474000112ed7",
   "metadata": {},
   "source": [
    "<h2>In the print() function, you output multiple variables, separated by a comma</h2>"
   ]
  },
  {
   "cell_type": "code",
   "execution_count": 49,
   "id": "0921374f-6317-4ba5-ac4a-f8ea4a71bccf",
   "metadata": {},
   "outputs": [
    {
     "name": "stdout",
     "output_type": "stream",
     "text": [
      "Ashir is Super Star\n"
     ]
    }
   ],
   "source": [
    "x = \"Ashir\"\n",
    "y = \"is\"\n",
    "z = \"Super Star\"\n",
    "print(x, y, z)"
   ]
  },
  {
   "cell_type": "markdown",
   "id": "e463def3-160d-462e-88a5-35a71f61aa89",
   "metadata": {},
   "source": [
    "<h2> + operator can also be used to output multiple variables:</h2>"
   ]
  },
  {
   "cell_type": "code",
   "execution_count": 53,
   "id": "94909662-26ba-46e9-80cf-afd5863e822a",
   "metadata": {},
   "outputs": [
    {
     "name": "stdout",
     "output_type": "stream",
     "text": [
      "Ashiris Super Star\n"
     ]
    }
   ],
   "source": [
    "x = \"Ashir\"\n",
    "y = \"is \"\n",
    "z = \"Super Star\"\n",
    "print(x + y + z)\n",
    "     #NO auto spacing"
   ]
  },
  {
   "cell_type": "markdown",
   "id": "a7d71e0d-f642-464b-afb0-a5e758f68ca6",
   "metadata": {},
   "source": [
    "<h2>For numbers, the + character works as a mathematical operator:</h2>"
   ]
  },
  {
   "cell_type": "code",
   "execution_count": 54,
   "id": "a223a88f-dbd2-41b4-bdb3-46b5e1a6af41",
   "metadata": {},
   "outputs": [
    {
     "name": "stdout",
     "output_type": "stream",
     "text": [
      "10\n"
     ]
    }
   ],
   "source": [
    "x = 5\n",
    "y = 5\n",
    "print(x + y)"
   ]
  },
  {
   "cell_type": "code",
   "execution_count": 58,
   "id": "ec85a4e5-3870-459b-bc8c-2168102a0f8e",
   "metadata": {},
   "outputs": [
    {
     "ename": "TypeError",
     "evalue": "unsupported operand type(s) for +: 'int' and 'str'",
     "output_type": "error",
     "traceback": [
      "\u001b[1;31m---------------------------------------------------------------------------\u001b[0m",
      "\u001b[1;31mTypeError\u001b[0m                                 Traceback (most recent call last)",
      "Cell \u001b[1;32mIn[58], line 3\u001b[0m\n\u001b[0;32m      1\u001b[0m x \u001b[38;5;241m=\u001b[39m \u001b[38;5;241m5\u001b[39m\n\u001b[0;32m      2\u001b[0m y \u001b[38;5;241m=\u001b[39m \u001b[38;5;124m\"\u001b[39m\u001b[38;5;124mAshir\u001b[39m\u001b[38;5;124m\"\u001b[39m\n\u001b[1;32m----> 3\u001b[0m \u001b[38;5;28mprint\u001b[39m(x \u001b[38;5;241m+\u001b[39m y)\n",
      "\u001b[1;31mTypeError\u001b[0m: unsupported operand type(s) for +: 'int' and 'str'"
     ]
    }
   ],
   "source": [
    "x = 5\n",
    "y = \"Ashir\"\n",
    "print(x + y)\n",
    "#In the print() function, when you try to combine a string and a number with the + operator, Python will give you an error"
   ]
  },
  {
   "cell_type": "code",
   "execution_count": 60,
   "id": "005e95c8-e951-4e0d-ab60-e4035265dddf",
   "metadata": {},
   "outputs": [
    {
     "name": "stdout",
     "output_type": "stream",
     "text": [
      "5 Ashir\n"
     ]
    }
   ],
   "source": [
    "x = 5\n",
    "y = \"Ashir\"\n",
    "print(x , y)\n",
    "\n",
    "#you can do like this"
   ]
  },
  {
   "cell_type": "markdown",
   "id": "3d6873f4-82f0-4d01-915b-b2bda031d677",
   "metadata": {},
   "source": [
    "<h2>Global Variables</h2>"
   ]
  },
  {
   "cell_type": "code",
   "execution_count": 61,
   "id": "7de61773-e28a-4f14-8e18-326a24b88c1a",
   "metadata": {},
   "outputs": [
    {
     "name": "stdout",
     "output_type": "stream",
     "text": [
      "Python is awesome\n"
     ]
    }
   ],
   "source": [
    "#Creating a variable outside of a function, and use it inside the function\n",
    "\n",
    "x = \"awesome\"\n",
    "\n",
    "def myfunc():\n",
    "  print(\"Python is \" + x)\n",
    "\n",
    "myfunc()"
   ]
  },
  {
   "cell_type": "code",
   "execution_count": 70,
   "id": "ca247e53-d67a-4cdb-929d-b3bb8b78cd88",
   "metadata": {},
   "outputs": [
    {
     "name": "stdout",
     "output_type": "stream",
     "text": [
      "python is fantastic\n",
      "python is I dont know\n"
     ]
    }
   ],
   "source": [
    "#Create a variable inside a function, with the same name as the global variable\n",
    "x = \"I dont know\"\n",
    "def myfunc():\n",
    "    x = \"fantastic\"\n",
    "    print(\"python is \" + x)\n",
    "myfunc() \n",
    "\n",
    "print(\"python is \" + x)"
   ]
  },
  {
   "cell_type": "markdown",
   "id": "dc7e05f9-057e-4380-93a5-4aff0274d2c1",
   "metadata": {},
   "source": [
    "<h2>Global Keyword</h2>"
   ]
  },
  {
   "cell_type": "code",
   "execution_count": 75,
   "id": "7ec5c4be-5624-48d9-becf-6a0da5a8d95e",
   "metadata": {},
   "outputs": [
    {
     "name": "stdout",
     "output_type": "stream",
     "text": [
      "python is fantastic as per global keyword\n",
      "python is fantastic as per global keyword\n"
     ]
    }
   ],
   "source": [
    "x = \"I dont Know\"\n",
    "def myfunc():\n",
    "    global x\n",
    "    x = \"fantastic as per global keyword\"\n",
    "    print(\"python is \" + x)\n",
    "myfunc()\n",
    "\n",
    "print(\"python is \" + x)\n",
    "    "
   ]
  },
  {
   "cell_type": "markdown",
   "id": "6a1e90ae-ccdc-426d-a7c4-e48cd16752de",
   "metadata": {},
   "source": [
    "<h2>Python Operators</h2>"
   ]
  },
  {
   "cell_type": "code",
   "execution_count": 77,
   "id": "e0efcc14-cec8-4258-9736-6d20dfc988ea",
   "metadata": {},
   "outputs": [
    {
     "name": "stdout",
     "output_type": "stream",
     "text": [
      "30\n",
      "0\n",
      "115\n",
      "5\n"
     ]
    }
   ],
   "source": [
    "print(10+20)\n",
    "\n",
    "#Operator Precedence\n",
    "print((6 + 3) - (6 + 3))\n",
    "\n",
    "#Multiplication * has higher precedence than addition +, and therefor multiplications are evaluated before additions:\n",
    "print(100 + 5 * 3)\n",
    "\n",
    "#Addition + and subtraction - has the same precedence, and therefor we evaluate the expression from left to right:\n",
    "print(5 + 4 - 7 + 3)\n",
    "\n"
   ]
  },
  {
   "cell_type": "markdown",
   "id": "0efe851e-1406-4572-a83a-4856411c4543",
   "metadata": {},
   "source": [
    "<h2>Python List</h2>"
   ]
  },
  {
   "cell_type": "code",
   "execution_count": 79,
   "id": "67ee5137-12aa-4091-b4fb-a0600a424565",
   "metadata": {},
   "outputs": [
    {
     "name": "stdout",
     "output_type": "stream",
     "text": [
      "['Ashir', 'Pookie', 'Laiba']\n"
     ]
    }
   ],
   "source": [
    "List = [\"Ashir\", \"Pookie\", \"Laiba\"]\n",
    "print(List)"
   ]
  },
  {
   "cell_type": "code",
   "execution_count": 82,
   "id": "4808ec56-61f4-448a-8e9e-c1a511f4f9b3",
   "metadata": {},
   "outputs": [
    {
     "name": "stdout",
     "output_type": "stream",
     "text": [
      "['Ashir', 'Hussain', 'Aimal', 'Ashir']\n"
     ]
    }
   ],
   "source": [
    "#List allows duplicate values\n",
    "List = [\"Ashir\" , \"Hussain\" , \"Aimal\" , \"Ashir\"]\n",
    "print(List)"
   ]
  },
  {
   "cell_type": "code",
   "execution_count": 84,
   "id": "ba5e8114-ae91-4d8e-bcfa-9f6761aae616",
   "metadata": {},
   "outputs": [
    {
     "name": "stdout",
     "output_type": "stream",
     "text": [
      "4\n"
     ]
    }
   ],
   "source": [
    "#Length of the List\n",
    "\n",
    "List = [\"Ashir\" , \"Hussain\" , \"Aimal\" , \"Ashir\"]\n",
    "print(len(List))"
   ]
  },
  {
   "cell_type": "code",
   "execution_count": 87,
   "id": "3df37b1d-53ae-4f14-ad59-323746871401",
   "metadata": {},
   "outputs": [
    {
     "name": "stdout",
     "output_type": "stream",
     "text": [
      "[1, 2, 3]\n",
      "['Ashir', 'Tayyab', 'Aimal']\n",
      "['a', 'b', 'c']\n",
      "[True, False, True]\n"
     ]
    }
   ],
   "source": [
    "#List item can be of any type\n",
    "\n",
    "\n",
    "List1 = [1 , 2 , 3]\n",
    "List2 = [\"Ashir\" ,\"Tayyab\" ,\"Aimal\"]\n",
    "List3 = ['a' , 'b' , 'c']\n",
    "List4 = [True , False , True]\n",
    "print(List1)\n",
    "print(List2)\n",
    "print(List3)\n",
    "print(List4)"
   ]
  },
  {
   "cell_type": "code",
   "execution_count": 91,
   "id": "1e22a5dd-2c8b-47ae-b5b1-0f9956c9db19",
   "metadata": {},
   "outputs": [
    {
     "name": "stdout",
     "output_type": "stream",
     "text": [
      "['Ashir', 'a', True, 'male']\n"
     ]
    }
   ],
   "source": [
    "#List can be of any type unlike array\n",
    "\n",
    "List = [\"Ashir\", 'a', True, \"male\"]\n",
    "\n",
    "print(List)"
   ]
  },
  {
   "cell_type": "code",
   "execution_count": 92,
   "id": "ed0f5262-04e4-4dca-92e1-b1286cb0f018",
   "metadata": {},
   "outputs": [
    {
     "name": "stdout",
     "output_type": "stream",
     "text": [
      "<class 'list'>\n"
     ]
    }
   ],
   "source": [
    "#List is actually a data type\n",
    "\n",
    "mylist = [\"apple\", \"banana\", \"cherry\"]\n",
    "print(type(mylist))"
   ]
  },
  {
   "cell_type": "code",
   "execution_count": 105,
   "id": "0c44f908-6192-4c06-9799-f0b6aba02612",
   "metadata": {},
   "outputs": [
    {
     "name": "stdout",
     "output_type": "stream",
     "text": [
      "laiba\n"
     ]
    }
   ],
   "source": [
    "#You can print the list items\n",
    "\n",
    "mylist = [\"ashir\", \"laiba\", \"aimal\"]\n",
    "print(mylist[1])"
   ]
  },
  {
   "cell_type": "code",
   "execution_count": 107,
   "id": "64a0442e-73d9-487e-ad23-f04db8a3b9f1",
   "metadata": {},
   "outputs": [
    {
     "name": "stdout",
     "output_type": "stream",
     "text": [
      "aimal\n"
     ]
    }
   ],
   "source": [
    "#Negative Indexing\n",
    "\n",
    "mylist = [\"ashir\", \"laiba\", \"aimal\"]\n",
    "print(mylist[-1])"
   ]
  },
  {
   "cell_type": "code",
   "execution_count": 110,
   "id": "cb1b7c59-5e40-4740-b366-85b39b06495a",
   "metadata": {},
   "outputs": [
    {
     "name": "stdout",
     "output_type": "stream",
     "text": [
      "['Hamza', 'Tayab', 'Mustafa']\n"
     ]
    }
   ],
   "source": [
    "#Range of a List \n",
    "\n",
    "List = [\"Aimal\" , \"Ashir\" , \"Hamza\" , \"Tayab\" , \"Mustafa\" , \"Khubaib\" , \"Hussain\"]\n",
    "\n",
    "print(List[2:5])"
   ]
  },
  {
   "cell_type": "code",
   "execution_count": 112,
   "id": "32a32396-f468-4959-85fd-970415bbe0ff",
   "metadata": {},
   "outputs": [
    {
     "name": "stdout",
     "output_type": "stream",
     "text": [
      "['Aimal', 'Ashir', 'Hamza', 'Tayab', 'Mustafa']\n"
     ]
    }
   ],
   "source": [
    "#This will print from start but not the 5th that is khubaib\n",
    "\n",
    "List = [\"Aimal\" , \"Ashir\" , \"Hamza\" , \"Tayab\" , \"Mustafa\" , \"Khubaib\" , \"Hussain\"]\n",
    "\n",
    "print(List[:5])"
   ]
  },
  {
   "cell_type": "code",
   "execution_count": 113,
   "id": "65750a0e-3748-4bca-937d-007a94d3544f",
   "metadata": {},
   "outputs": [
    {
     "name": "stdout",
     "output_type": "stream",
     "text": [
      "['Khubaib', 'Hussain']\n"
     ]
    }
   ],
   "source": [
    "#THis will print from 5 that is khubaib till end\n",
    "\n",
    "\n",
    "List = [\"Aimal\" , \"Ashir\" , \"Hamza\" , \"Tayab\" , \"Mustafa\" , \"Khubaib\" , \"Hussain\"]\n",
    "\n",
    "print(List[5:])"
   ]
  },
  {
   "cell_type": "code",
   "execution_count": 131,
   "id": "4d665f01-6d17-4ad2-961c-5793985409c1",
   "metadata": {},
   "outputs": [
    {
     "name": "stdout",
     "output_type": "stream",
     "text": [
      "['Aimal', 'Ashir', 'Hamza', 'Tayab']\n"
     ]
    }
   ],
   "source": [
    "#Negative Indexing\n",
    "\n",
    "List = [\"Aimal\" , \"Ashir\" , \"Hamza\" , \"Tayab\" , \"Mustafa\" , \"Khubaib\" , \"Hussain\"]\n",
    "\n",
    "print(List[-7:-3])"
   ]
  },
  {
   "cell_type": "code",
   "execution_count": 134,
   "id": "65819063-e07b-4be4-b5bf-3a3c6bd680a1",
   "metadata": {},
   "outputs": [
    {
     "name": "stdout",
     "output_type": "stream",
     "text": [
      " Yes Mustafa is in the List\n"
     ]
    }
   ],
   "source": [
    "#Checking The List if items exist\n",
    " \n",
    "List = [\"Aimal\" , \"Ashir\" , \"Hamza\" , \"Tayab\" , \"Mustafa\" , \"Khubaib\" , \"Hussain\"]\n",
    "if \"Mustafa\" in List:\n",
    "    print(\" Yes Mustafa is in the List\")"
   ]
  },
  {
   "cell_type": "code",
   "execution_count": 136,
   "id": "38eebc15-a3b9-4e81-bed4-ba663dcdd2ed",
   "metadata": {},
   "outputs": [
    {
     "name": "stdout",
     "output_type": "stream",
     "text": [
      "['Aimal', 'Ashir', 'Usama', 'Tayab', 'Mustafa', 'Khubaib', 'Hussain']\n"
     ]
    }
   ],
   "source": [
    "#Changin the Items of the List\n",
    "\n",
    "List = [\"Aimal\" , \"Ashir\" , \"Hamza\" , \"Tayab\" , \"Mustafa\" , \"Khubaib\" , \"Hussain\"]\n",
    "\n",
    "List[2] = \"Usama\"\n",
    "\n",
    "print(List)"
   ]
  },
  {
   "cell_type": "code",
   "execution_count": 141,
   "id": "2b59fd63-c759-47d4-9b76-7642024ce98e",
   "metadata": {},
   "outputs": [
    {
     "name": "stdout",
     "output_type": "stream",
     "text": [
      "['Aimal', 'Ashir', 'Confidence', 'Calculator', 'Website', 'test', 'Mustafa', 'Khubaib', 'Hussain']\n"
     ]
    }
   ],
   "source": [
    "#Changing the range of multiple Items Values you can add multiple at a time\n",
    "\n",
    "List = [\"Aimal\" , \"Ashir\" , \"Hamza\" , \"Tayab\" , \"Mustafa\" , \"Khubaib\" , \"Hussain\"]\n",
    "List[2:4] = [\"Confidence\" , \"Calculator\" , \"Website\" , \"test\"]\n",
    "\n",
    "print(List)"
   ]
  },
  {
   "cell_type": "code",
   "execution_count": 143,
   "id": "08199560-ae3f-4296-9afd-8d4b0636f853",
   "metadata": {},
   "outputs": [
    {
     "name": "stdout",
     "output_type": "stream",
     "text": [
      "['Aimal', 'Ashir', 'Ashir Khan ', 'Hamza', 'Tayab', 'Mustafa', 'Khubaib', 'Hussain']\n"
     ]
    }
   ],
   "source": [
    "#Inserting the values in the List \n",
    "\n",
    "List = [\"Aimal\" , \"Ashir\" , \"Hamza\" , \"Tayab\" , \"Mustafa\" , \"Khubaib\" , \"Hussain\"]\n",
    "List.insert(2, \"Ashir Khan \")\n",
    "\n",
    "print(List)"
   ]
  },
  {
   "cell_type": "code",
   "execution_count": 144,
   "id": "571cfa73-30aa-4308-954d-ad57f23c4628",
   "metadata": {},
   "outputs": [
    {
     "name": "stdout",
     "output_type": "stream",
     "text": [
      "['Aimal', 'Ashir', 'Hamza', 'Tayab', 'Mustafa', 'Khubaib', 'Hussain', 'Usssssaaaaama Khaaan']\n"
     ]
    }
   ],
   "source": [
    "#Adding Items in the List\n",
    "\n",
    "List = [\"Aimal\" , \"Ashir\" , \"Hamza\" , \"Tayab\" , \"Mustafa\" , \"Khubaib\" , \"Hussain\"]\n",
    "List.append(\"Usssssaaaaama Khaaan\")\n",
    "\n",
    "print (List)"
   ]
  },
  {
   "cell_type": "code",
   "execution_count": 148,
   "id": "b19b9d05-771b-43cb-964b-c117f288a6de",
   "metadata": {},
   "outputs": [
    {
     "name": "stdout",
     "output_type": "stream",
     "text": [
      "['Aimal', 'Ashir', 'Hamza', 'Tayab', 'Mustafa', 'Khubaib', 'Hussain', 'Mubashir putar', 'Puneet Super Star', 'Bakhti Rehman']\n"
     ]
    }
   ],
   "source": [
    "#Extending the list \n",
    "#Add the elements of List2 to List1:\n",
    "List1 = [\"Aimal\" , \"Ashir\" , \"Hamza\" , \"Tayab\" , \"Mustafa\" , \"Khubaib\" , \"Hussain\"]\n",
    "List2 = [\"Mubashir putar\" , \"Puneet Super Star\" , \"Bakhti Rehman\"]\n",
    "\n",
    "List1.extend(List2)\n",
    "print(List1)"
   ]
  },
  {
   "cell_type": "code",
   "execution_count": 149,
   "id": "13b477fb-1c7b-4152-8ae6-bc305598b25a",
   "metadata": {},
   "outputs": [
    {
     "name": "stdout",
     "output_type": "stream",
     "text": [
      "['Aimal', 'Ashir', 'Hamza', 'Tayab', 'Mustafa', 'Khubaib', 'Hussain', 'puneet Super Star', 'Mubashir Putar']\n"
     ]
    }
   ],
   "source": [
    "#Add any iterable to the list\n",
    "\n",
    "List = [\"Aimal\" , \"Ashir\" , \"Hamza\" , \"Tayab\" , \"Mustafa\" , \"Khubaib\" , \"Hussain\"]\n",
    "thistuple = (\"puneet Super Star\" , \"Mubashir Putar\")\n",
    "\n",
    "List.extend(thistuple)\n",
    "\n",
    "print(List)"
   ]
  },
  {
   "cell_type": "code",
   "execution_count": 153,
   "id": "ffe092b4-b1dd-4a98-a435-8b6876fb46d3",
   "metadata": {},
   "outputs": [
    {
     "name": "stdout",
     "output_type": "stream",
     "text": [
      "['Aimal', 'Ashir', 'Tayab', 'Mustafa', 'Khubaib', 'Hussain']\n"
     ]
    }
   ],
   "source": [
    "#Remove Item from the List\n",
    "\n",
    "List = [\"Aimal\" , \"Ashir\" , \"Hamza\" , \"Tayab\" , \"Mustafa\" , \"Khubaib\" , \"Hussain\"]\n",
    "\n",
    "List.remove(\"Hamza\")\n",
    "\n",
    "print(List)"
   ]
  },
  {
   "cell_type": "code",
   "execution_count": 154,
   "id": "ab447ec3-d635-4a5b-9fc3-c2e477b7a1e9",
   "metadata": {},
   "outputs": [
    {
     "name": "stdout",
     "output_type": "stream",
     "text": [
      "['Aimal', 'Hamza', 'Ashir', 'Mustafa', 'Khubaib', 'Hussain']\n"
     ]
    }
   ],
   "source": [
    "#Remove the first occurance of Ashir\n",
    "\n",
    "List = [\"Aimal\" , \"Ashir\" , \"Hamza\" , \"Ashir\" , \"Mustafa\" , \"Khubaib\" , \"Hussain\"]\n",
    "\n",
    "List.remove(\"Ashir\")\n",
    "\n",
    "print(List)"
   ]
  },
  {
   "cell_type": "code",
   "execution_count": 155,
   "id": "2b7d797d-e3bc-4e41-a4b8-d291924459a1",
   "metadata": {},
   "outputs": [
    {
     "name": "stdout",
     "output_type": "stream",
     "text": [
      "['Aimal', 'Ashir', 'Tayab', 'Mustafa', 'Khubaib', 'Hussain']\n"
     ]
    }
   ],
   "source": [
    "#Remove specified Index from the list\n",
    "\n",
    "List = [\"Aimal\" , \"Ashir\" , \"Hamza\" , \"Tayab\" , \"Mustafa\" , \"Khubaib\" , \"Hussain\"]\n",
    "\n",
    "List.pop(2)\n",
    "\n",
    "print(List)"
   ]
  },
  {
   "cell_type": "code",
   "execution_count": 157,
   "id": "af7fdbd1-b01e-4895-95f6-90bea552e88c",
   "metadata": {},
   "outputs": [
    {
     "name": "stdout",
     "output_type": "stream",
     "text": [
      "['Aimal', 'Ashir', 'Hamza', 'Tayab', 'Mustafa', 'Khubaib']\n"
     ]
    }
   ],
   "source": [
    "#If you donot specify the item in pop the last item will automaticaly be removed\n",
    "\n",
    "List = [\"Aimal\" , \"Ashir\" , \"Hamza\" , \"Tayab\" , \"Mustafa\" , \"Khubaib\" , \"Hussain\"]\n",
    "\n",
    "List.pop()\n",
    "\n",
    "print(List)\n"
   ]
  },
  {
   "cell_type": "code",
   "execution_count": 158,
   "id": "87c5ad56-030b-4e81-8af8-39d9282ded4c",
   "metadata": {},
   "outputs": [
    {
     "name": "stdout",
     "output_type": "stream",
     "text": [
      "['Aimal', 'Hamza', 'Tayab', 'Mustafa', 'Khubaib', 'Hussain']\n"
     ]
    }
   ],
   "source": [
    "#Dell Key also removes the specified Index\n",
    "\n",
    "\n",
    "List = [\"Aimal\" , \"Ashir\" , \"Hamza\" , \"Tayab\" , \"Mustafa\" , \"Khubaib\" , \"Hussain\"]\n",
    "\n",
    "del List[1]\n",
    "\n",
    "print(List)"
   ]
  },
  {
   "cell_type": "code",
   "execution_count": 161,
   "id": "508578e3-35bd-4047-a800-2e0f0d770008",
   "metadata": {},
   "outputs": [
    {
     "ename": "NameError",
     "evalue": "name 'List' is not defined",
     "output_type": "error",
     "traceback": [
      "\u001b[1;31m---------------------------------------------------------------------------\u001b[0m",
      "\u001b[1;31mNameError\u001b[0m                                 Traceback (most recent call last)",
      "Cell \u001b[1;32mIn[161], line 7\u001b[0m\n\u001b[0;32m      4\u001b[0m List \u001b[38;5;241m=\u001b[39m [\u001b[38;5;124m\"\u001b[39m\u001b[38;5;124mAimal\u001b[39m\u001b[38;5;124m\"\u001b[39m , \u001b[38;5;124m\"\u001b[39m\u001b[38;5;124mAshir\u001b[39m\u001b[38;5;124m\"\u001b[39m , \u001b[38;5;124m\"\u001b[39m\u001b[38;5;124mHamza\u001b[39m\u001b[38;5;124m\"\u001b[39m , \u001b[38;5;124m\"\u001b[39m\u001b[38;5;124mTayab\u001b[39m\u001b[38;5;124m\"\u001b[39m , \u001b[38;5;124m\"\u001b[39m\u001b[38;5;124mMustafa\u001b[39m\u001b[38;5;124m\"\u001b[39m , \u001b[38;5;124m\"\u001b[39m\u001b[38;5;124mKhubaib\u001b[39m\u001b[38;5;124m\"\u001b[39m , \u001b[38;5;124m\"\u001b[39m\u001b[38;5;124mHussain\u001b[39m\u001b[38;5;124m\"\u001b[39m]\n\u001b[0;32m      6\u001b[0m \u001b[38;5;28;01mdel\u001b[39;00m List\n\u001b[1;32m----> 7\u001b[0m \u001b[38;5;28mprint\u001b[39m(List)\n",
      "\u001b[1;31mNameError\u001b[0m: name 'List' is not defined"
     ]
    }
   ],
   "source": [
    "#Dell can also delete the whole list\n",
    "\n",
    "\n",
    "List = [\"Aimal\" , \"Ashir\" , \"Hamza\" , \"Tayab\" , \"Mustafa\" , \"Khubaib\" , \"Hussain\"]\n",
    "\n",
    "del List\n",
    "print(List)"
   ]
  },
  {
   "cell_type": "code",
   "execution_count": 163,
   "id": "ae1504a9-9c15-4ba0-91af-c5770bfa912d",
   "metadata": {},
   "outputs": [
    {
     "name": "stdout",
     "output_type": "stream",
     "text": [
      "[]\n"
     ]
    }
   ],
   "source": [
    "#you can also clear the list\n",
    "\n",
    "List = [\"Aimal\" , \"Ashir\" , \"Hamza\" , \"Tayab\" , \"Mustafa\" , \"Khubaib\" , \"Hussain\"]\n",
    "List.clear()\n",
    "\n",
    "print(List)"
   ]
  },
  {
   "cell_type": "code",
   "execution_count": 168,
   "id": "151f6303-f2d0-481f-9935-cd2290206194",
   "metadata": {},
   "outputs": [
    {
     "name": "stdout",
     "output_type": "stream",
     "text": [
      "Aimal\n",
      "Ashir\n",
      "Hamza\n",
      "Tayab\n",
      "Mustafa\n",
      "Khubaib\n",
      "Hussain\n"
     ]
    }
   ],
   "source": [
    "#Printing the Elements of the List\n",
    "\n",
    "\n",
    "List = [\"Aimal\" , \"Ashir\" , \"Hamza\" , \"Tayab\" , \"Mustafa\" , \"Khubaib\" , \"Hussain\"]\n",
    "\n",
    "for List in List:\n",
    "    print(List)"
   ]
  },
  {
   "cell_type": "code",
   "execution_count": 169,
   "id": "a36b556e-8190-4325-b0ee-f72e599614c2",
   "metadata": {},
   "outputs": [
    {
     "name": "stdout",
     "output_type": "stream",
     "text": [
      "0\n",
      "1\n",
      "2\n",
      "3\n",
      "4\n",
      "5\n",
      "6\n"
     ]
    }
   ],
   "source": [
    "#you can also print list by reffering to their number\n",
    "\n",
    "List = [\"Aimal\" , \"Ashir\" , \"Hamza\" , \"Tayab\" , \"Mustafa\" , \"Khubaib\" , \"Hussain\"]\n",
    "\n",
    "for List in range(len(List)):\n",
    "    print(List)\n",
    "\n"
   ]
  },
  {
   "cell_type": "code",
   "execution_count": 173,
   "id": "fc494ad0-a73a-4f57-bc5d-42049690d4b7",
   "metadata": {},
   "outputs": [
    {
     "name": "stdout",
     "output_type": "stream",
     "text": [
      "Aimal\n",
      "Ashir\n",
      "Hamza\n",
      "Tayab\n",
      "Mustafa\n",
      "Khubaib\n",
      "Hussain\n"
     ]
    }
   ],
   "source": [
    "#While Loop\n",
    "\n",
    "List = [\"Aimal\" , \"Ashir\" , \"Hamza\" , \"Tayab\" , \"Mustafa\" , \"Khubaib\" , \"Hussain\"]\n",
    "\n",
    "i = 0\n",
    "\n",
    "while i < len(List):\n",
    "    print(List[i])\n",
    "    i+=1\n"
   ]
  },
  {
   "cell_type": "code",
   "execution_count": 190,
   "id": "2db1442a-6a0e-4353-b0cf-c159f27ae8b3",
   "metadata": {},
   "outputs": [
    {
     "name": "stdout",
     "output_type": "stream",
     "text": [
      "['Ashir', 'Mustafa', 'Hussain']\n"
     ]
    }
   ],
   "source": [
    "#without List COmprehension\n",
    "\n",
    "Names = [\"Aimal\" , \"Ashir\" , \"Hamza\" , \"Tayab\" , \"Mustafa\" , \"Khubaib\" , \"Hussain\"]\n",
    "\n",
    "newNames = []\n",
    "\n",
    "for x in Names:\n",
    "    if \"s\" in x:\n",
    "        newNames.append(x)\n",
    "\n",
    "print(newNames)\n"
   ]
  },
  {
   "cell_type": "code",
   "execution_count": 192,
   "id": "701900b5-ec1b-4b33-b4c5-a06d55039120",
   "metadata": {},
   "outputs": [
    {
     "name": "stdout",
     "output_type": "stream",
     "text": [
      "['Ashir', 'Mustafa', 'Hussain']\n"
     ]
    }
   ],
   "source": [
    "#With list comprehension\n",
    "\n",
    "Names = [\"Aimal\" , \"Ashir\" , \"Hamza\" , \"Tayab\" , \"Mustafa\" , \"Khubaib\" , \"Hussain\"]\n",
    "\n",
    "newNames = [x for x in Names if \"s\" in x]\n",
    "\n",
    "print (newNames)\n"
   ]
  },
  {
   "cell_type": "code",
   "execution_count": 193,
   "id": "04fa2616-c0f4-4702-8972-156faa72200e",
   "metadata": {},
   "outputs": [
    {
     "name": "stdout",
     "output_type": "stream",
     "text": [
      "['Aimal', 'Ashir', 'Hamza', 'Mustafa', 'Khubaib', 'Hussain']\n"
     ]
    }
   ],
   "source": [
    "#Only accept items that are not Aimal\n",
    "\n",
    "Names = [\"Aimal\" , \"Ashir\" , \"Hamza\" , \"Tayab\" , \"Mustafa\" , \"Khubaib\" , \"Hussain\"]\n",
    "newNames= [x for x in Names if x!= \"Tayab\"]\n",
    "\n",
    "print(newNames)"
   ]
  },
  {
   "cell_type": "code",
   "execution_count": 194,
   "id": "5aab0a22-ebe9-461b-9e91-277a2eaab33a",
   "metadata": {},
   "outputs": [
    {
     "name": "stdout",
     "output_type": "stream",
     "text": [
      "['Aimal', 'Ashir', 'Hamza', 'Tayab', 'Mustafa', 'Khubaib', 'Hussain']\n"
     ]
    }
   ],
   "source": [
    "#New List without if\n",
    "\n",
    "Names = [\"Aimal\" , \"Ashir\" , \"Hamza\" , \"Tayab\" , \"Mustafa\" , \"Khubaib\" , \"Hussain\"]\n",
    "newNames= [x for x in Names ]\n",
    "\n",
    "print(newNames)"
   ]
  },
  {
   "cell_type": "code",
   "execution_count": 197,
   "id": "70e8ce60-1b0c-4c74-ba3e-a8c1cb50b8fb",
   "metadata": {},
   "outputs": [
    {
     "name": "stdout",
     "output_type": "stream",
     "text": [
      "[0, 1, 2, 3, 4, 5, 6, 7, 8, 9]\n"
     ]
    }
   ],
   "source": [
    "#Range Function\n",
    "\n",
    "\n",
    "newNames= [x for x in range(10)]\n",
    "\n",
    "print(newNames)"
   ]
  },
  {
   "cell_type": "code",
   "execution_count": 201,
   "id": "1c90ffc9-0bad-4c3b-b1b6-2df4a400d858",
   "metadata": {},
   "outputs": [
    {
     "name": "stdout",
     "output_type": "stream",
     "text": [
      "[0, 1, 2, 3, 4]\n"
     ]
    }
   ],
   "source": [
    "#Range Example with condition\n",
    "\n",
    "\n",
    "newNames= [x for x in range(10) if x<5]\n",
    "\n",
    "print(newNames)"
   ]
  },
  {
   "cell_type": "code",
   "execution_count": 202,
   "id": "6c5acef4-1b43-496f-8452-85dd8f4a0976",
   "metadata": {},
   "outputs": [
    {
     "name": "stdout",
     "output_type": "stream",
     "text": [
      "['AIMAL', 'ASHIR', 'HAMZA', 'TAYAB', 'MUSTAFA', 'KHUBAIB', 'HUSSAIN']\n"
     ]
    }
   ],
   "source": [
    "#Convert each into uper case \n",
    "Names = [\"Aimal\" , \"Ashir\" , \"Hamza\" , \"Tayab\" , \"Mustafa\" , \"Khubaib\" , \"Hussain\"]\n",
    "newNames= [x .upper() for x in Names ]\n",
    "\n",
    "print(newNames)"
   ]
  },
  {
   "cell_type": "code",
   "execution_count": 203,
   "id": "6f573831-17d3-4a8c-b48f-bc8cf059e539",
   "metadata": {},
   "outputs": [
    {
     "name": "stdout",
     "output_type": "stream",
     "text": [
      "['Puneet Super Star', 'Puneet Super Star', 'Puneet Super Star', 'Puneet Super Star', 'Puneet Super Star', 'Puneet Super Star', 'Puneet Super Star']\n"
     ]
    }
   ],
   "source": [
    "#Set all the values in new to another word\n",
    "\n",
    "Names = [\"Aimal\" , \"Ashir\" , \"Hamza\" , \"Tayab\" , \"Mustafa\" , \"Khubaib\" , \"Hussain\"]\n",
    "newNames= [\"Puneet Super Star\" for x in Names ]\n",
    "\n",
    "print(newNames)"
   ]
  },
  {
   "cell_type": "code",
   "execution_count": 205,
   "id": "7a4a1002-77c4-42a2-80a9-e90dbda7717c",
   "metadata": {},
   "outputs": [
    {
     "name": "stdout",
     "output_type": "stream",
     "text": [
      "['Aimal', 'Ashir', 'Hamza', 'Tayab', 'Zaid Ghori', 'Khubaib', 'Hussain']\n"
     ]
    }
   ],
   "source": [
    "#Return Zaid Ghori instead of Mustafa\n",
    "Names = [\"Aimal\" , \"Ashir\" , \"Hamza\" , \"Tayab\" , \"Mustafa\" , \"Khubaib\" , \"Hussain\"]\n",
    "newNames = [x if x != \"Mustafa\" else \"Zaid Ghori\" for x in Names]\n",
    "\n",
    "print(newNames)\n"
   ]
  },
  {
   "cell_type": "code",
   "execution_count": 207,
   "id": "cc098fe5-6e2d-4f35-83ed-dc298b7b348c",
   "metadata": {},
   "outputs": [
    {
     "name": "stdout",
     "output_type": "stream",
     "text": [
      "['Aimal', 'Ashir', 'Hamza', 'Hussain', 'Khubaib', 'Mustafa', 'Tayab']\n"
     ]
    }
   ],
   "source": [
    "#Sorting the List string\n",
    "\n",
    "\n",
    "Names = [\"Aimal\" , \"Ashir\" , \"Hamza\" , \"Tayab\" , \"Mustafa\" , \"Khubaib\" , \"Hussain\"]\n",
    "Names.sort()\n",
    "print(Names)"
   ]
  },
  {
   "cell_type": "code",
   "execution_count": 208,
   "id": "c3eb9470-bfcf-48c2-9395-9447393c2e38",
   "metadata": {},
   "outputs": [
    {
     "name": "stdout",
     "output_type": "stream",
     "text": [
      "[0, 11, 22, 33, 44, 55, 66, 77, 88, 99]\n"
     ]
    }
   ],
   "source": [
    "#Sorting numbers \n",
    "\n",
    "numbers = [44, 77, 22,88,33,11,55,99,66,00]\n",
    "numbers.sort()\n",
    "print(numbers)\n"
   ]
  },
  {
   "cell_type": "code",
   "execution_count": 212,
   "id": "6e16a3bb-47dd-4b16-8226-88abffe621e3",
   "metadata": {},
   "outputs": [
    {
     "name": "stdout",
     "output_type": "stream",
     "text": [
      "[99, 88, 77, 66, 55, 44, 33, 22, 11, 0]\n",
      "['Tayab', 'Mustafa', 'Khubaib', 'Hussain', 'Hamza', 'Ashir', 'Aimal']\n"
     ]
    }
   ],
   "source": [
    "#Descending Order Sort\n",
    "\n",
    "numbers = [44, 77, 22,88,33,11,55,99,66,00]\n",
    "numbers.sort(reverse = True)\n",
    "\n",
    "\n",
    "\n",
    "#Sorting the List string in descending\n",
    "Names = [\"Aimal\" , \"Ashir\" , \"Hamza\" , \"Tayab\" , \"Mustafa\" , \"Khubaib\" , \"Hussain\"]\n",
    "Names.sort(reverse = True)\n",
    "print(Names)"
   ]
  },
  {
   "cell_type": "code",
   "execution_count": 4,
   "id": "3de75976-9b9a-4ddc-acc2-6d17c203a082",
   "metadata": {},
   "outputs": [
    {
     "name": "stdout",
     "output_type": "stream",
     "text": [
      "['Aimal', 'Khubaib', 'Mustafa', 'ashir', 'hamza', 'hussain', 'tayab']\n",
      "['tayab', 'hussain', 'hamza', 'ashir', 'Mustafa', 'Khubaib', 'Aimal']\n"
     ]
    }
   ],
   "source": [
    "#Case Insensitive Sorting \n",
    "\n",
    "\n",
    "\n",
    "Names = [\"Aimal\" , \"ashir\" , \"hamza\" , \"tayab\" , \"Mustafa\" , \"Khubaib\" , \"hussain\"]\n",
    "Names.sort()\n",
    "print(Names)\n",
    "Names.sort(reverse = True)\n",
    "print(Names)"
   ]
  },
  {
   "cell_type": "code",
   "execution_count": 5,
   "id": "f6dd41a6-4fa3-412e-92f2-abd21e15d58f",
   "metadata": {},
   "outputs": [
    {
     "name": "stdout",
     "output_type": "stream",
     "text": [
      "['Aimal', 'ashir', 'hamza', 'tayab', 'Mustafa', 'Khubaib', 'hussain']\n"
     ]
    }
   ],
   "source": [
    "#Copy the List using copy() method\n",
    "\n",
    "Names = [\"Aimal\" , \"ashir\" , \"hamza\" , \"tayab\" , \"Mustafa\" , \"Khubaib\" , \"hussain\"]\n",
    "newNames = Names.copy()\n",
    "print(newNames)"
   ]
  },
  {
   "cell_type": "code",
   "execution_count": 6,
   "id": "4f218d17-6cc5-4ef1-bbb0-f17f525282e6",
   "metadata": {},
   "outputs": [
    {
     "name": "stdout",
     "output_type": "stream",
     "text": [
      "['Aimal', 'ashir', 'hamza', 'tayab', 'Mustafa', 'Khubaib', 'hussain']\n"
     ]
    }
   ],
   "source": [
    "#Copy the List using list() method\n",
    "\n",
    "Names = [\"Aimal\" , \"ashir\" , \"hamza\" , \"tayab\" , \"Mustafa\" , \"Khubaib\" , \"hussain\"]\n",
    "newNames = list(Names)\n",
    "print(newNames)"
   ]
  },
  {
   "cell_type": "code",
   "execution_count": 7,
   "id": "4f62fb57-fa1a-4833-9adc-d7d859756704",
   "metadata": {},
   "outputs": [
    {
     "name": "stdout",
     "output_type": "stream",
     "text": [
      "['Aimal', 'ashir', 'hamza', 'tayab', 'Mustafa', 'Khubaib', 'hussain']\n"
     ]
    }
   ],
   "source": [
    "#Copy the List using Operator Slice\n",
    "\n",
    "\n",
    "Names = [\"Aimal\" , \"ashir\" , \"hamza\" , \"tayab\" , \"Mustafa\" , \"Khubaib\" , \"hussain\"]\n",
    "newNames = Names[:]\n",
    "print(newNames)"
   ]
  },
  {
   "cell_type": "code",
   "execution_count": 10,
   "id": "2b412684-389a-4e70-bfcb-7dec2fda618e",
   "metadata": {},
   "outputs": [
    {
     "name": "stdout",
     "output_type": "stream",
     "text": [
      "['a', 'b', 'c', 1, 2, 3]\n"
     ]
    }
   ],
   "source": [
    "#joining the List\n",
    "\n",
    "List1 = ['a', 'b', 'c']\n",
    "List2 = [1, 2, 3]\n",
    "\n",
    "List3 = List1 + List2\n",
    "\n",
    "print(List3)"
   ]
  },
  {
   "cell_type": "code",
   "execution_count": 1,
   "id": "b0a13080-43cf-4961-9c01-29468909c279",
   "metadata": {},
   "outputs": [
    {
     "name": "stdout",
     "output_type": "stream",
     "text": [
      "['a', 'b', 'c', 1, 2, 3]\n"
     ]
    }
   ],
   "source": [
    "#Joining the list Method 2\n",
    "list1 = [\"a\", \"b\" , \"c\"]\n",
    "list2 = [1, 2, 3]\n",
    "\n",
    "for x in list2:\n",
    "  list1.append(x)\n",
    "\n",
    "print(list1)"
   ]
  },
  {
   "cell_type": "code",
   "execution_count": 2,
   "id": "250b5ed6-254f-431d-b633-aed270994b21",
   "metadata": {},
   "outputs": [
    {
     "name": "stdout",
     "output_type": "stream",
     "text": [
      "['a', 'b', 'c', 1, 2, 3]\n"
     ]
    }
   ],
   "source": [
    "#Joining the list Method 3\n",
    "\n",
    "list1 = [\"a\", \"b\" , \"c\"]\n",
    "list2 = [1, 2, 3]\n",
    "\n",
    "list1.extend(list2)\n",
    "print(list1)"
   ]
  },
  {
   "cell_type": "markdown",
   "id": "e141617e-772b-42e7-84cb-140366f7f218",
   "metadata": {},
   "source": [
    "<h2>Python Tuples</h2>"
   ]
  },
  {
   "cell_type": "code",
   "execution_count": 3,
   "id": "c9c286c2-069f-47bf-97ef-d2ef7aa3b245",
   "metadata": {},
   "outputs": [
    {
     "name": "stdout",
     "output_type": "stream",
     "text": [
      "('Ashir', 'Aimal', 'Tayab')\n"
     ]
    }
   ],
   "source": [
    "#Printing the Tuple\n",
    "\n",
    "newTuple = ('Ashir' , 'Aimal' , 'Tayab')\n",
    "\n",
    "print(newTuple)"
   ]
  },
  {
   "cell_type": "code",
   "execution_count": 4,
   "id": "3395cb1a-dd79-40ed-afe1-f7bfa06c9e5b",
   "metadata": {},
   "outputs": [
    {
     "name": "stdout",
     "output_type": "stream",
     "text": [
      "3\n"
     ]
    }
   ],
   "source": [
    "#Length Of a tuple\n",
    "\n",
    "\n",
    "newTuple = ('Ashir' , 'Aimal' , 'Tayab')\n",
    "print(len(newTuple))"
   ]
  },
  {
   "cell_type": "code",
   "execution_count": 9,
   "id": "90e621c4-4fca-4108-9f39-41bf56de3dd7",
   "metadata": {},
   "outputs": [
    {
     "name": "stdout",
     "output_type": "stream",
     "text": [
      "<class 'tuple'>\n",
      "<class 'str'>\n"
     ]
    }
   ],
   "source": [
    "#One item tuple, remember the comma:\n",
    "\n",
    "tuple1 = ('Ashir' , )\n",
    "print(type(tuple1))\n",
    "\n",
    "tuple1 = ('Ashir')\n",
    "print(type(tuple1))"
   ]
  },
  {
   "cell_type": "code",
   "execution_count": 10,
   "id": "5cfc25b3-4a0d-4c4f-b1ed-4420ef131aae",
   "metadata": {},
   "outputs": [
    {
     "name": "stdout",
     "output_type": "stream",
     "text": [
      "('apple', 'banana', 'cherry', 1, 5, 7, 9, 3, True, False, False)\n"
     ]
    }
   ],
   "source": [
    "#Tuple String int boolean type\n",
    "\n",
    "tuple1 = (\"apple\", \"banana\", \"cherry\")\n",
    "tuple2 = (1, 5, 7, 9, 3)\n",
    "tuple3 = (True, False, False)\n",
    "\n",
    "print(tuple1 + tuple2 + tuple3 )"
   ]
  },
  {
   "cell_type": "code",
   "execution_count": 12,
   "id": "c004afe9-d3d6-4d49-b15b-d45f783eb95c",
   "metadata": {},
   "outputs": [
    {
     "name": "stdout",
     "output_type": "stream",
     "text": [
      "('Ashir', 'Aimal', 'Tayab')\n"
     ]
    }
   ],
   "source": [
    "#It is also possible to use the tuple() constructor to make a tuple.\n",
    "\n",
    "newTuple = (\"Ashir\", \"Aimal\", \"Tayab\")\n",
    "print(newTuple)"
   ]
  },
  {
   "cell_type": "code",
   "execution_count": 19,
   "id": "f2dff0d5-8434-4928-8d29-d446ec7f1787",
   "metadata": {},
   "outputs": [
    {
     "name": "stdout",
     "output_type": "stream",
     "text": [
      "Aimal\n",
      "Hamza\n",
      "('Khubaib', 'Mustafa', 'Hamza')\n",
      "('Ashir', 'Aimal', 'Tayab')\n",
      "('Khubaib', 'Mustafa', 'Hamza', 'Hussain', 'Usama')\n",
      "('Mustafa', 'Hamza')\n"
     ]
    }
   ],
   "source": [
    "#Printing the Item in the tuple\n",
    "\n",
    "newTuple = (\"Ashir\", \"Aimal\", \"Tayab\", \"Khubaib\" , \"Mustafa\", \"Hamza\" , \"Hussain\" , \"Usama\")\n",
    "print(newTuple[1])\n",
    "#Negative Indexing\n",
    "print(newTuple[-3])\n",
    "\n",
    "#Return the 3rd 4th and 5th Item\n",
    "print(newTuple[3:6])\n",
    "\n",
    "\n",
    "#By leaving out the start value, the range will start at the first item:\n",
    "print(newTuple[:3])\n",
    "\n",
    "\n",
    "#By leaving out the end value, the range will go on to the end of the tuple:\n",
    "print(newTuple[3:])\n",
    "\n",
    "#Specify negative indexes if you want to start the search from the end of the tuple:\n",
    "print(newTuple[-4:-2])\n",
    "\n"
   ]
  },
  {
   "cell_type": "code",
   "execution_count": 24,
   "id": "7b1200f7-9584-44d4-a4cc-0b305a9b5ad0",
   "metadata": {},
   "outputs": [
    {
     "name": "stdout",
     "output_type": "stream",
     "text": [
      "Yes Mustafa is in the tuple\n"
     ]
    }
   ],
   "source": [
    "#Check if the item is available in the tuple\n",
    "\n",
    "newTuple = (\"Ashir\", \"Aimal\", \"Tayab\", \"Khubaib\" , \"Mustafa\", \"Hamza\" , \"Hussain\" , \"Usama\")\n",
    "if \"Mustafa\" in newTuple:\n",
    "    print(\"Yes Mustafa is in the tuple\")"
   ]
  },
  {
   "cell_type": "code",
   "execution_count": 25,
   "id": "ba348a73-9ec4-4262-8396-78a407042024",
   "metadata": {},
   "outputs": [
    {
     "name": "stdout",
     "output_type": "stream",
     "text": [
      "<class 'list'>\n",
      "<class 'tuple'>\n",
      "('Ashir', 'Aimal', 'Tayab', 'Hamza')\n"
     ]
    }
   ],
   "source": [
    "#Changing the values of the tuple\n",
    "\n",
    "\n",
    "#Once a tuple is created, you cannot change its values. Tuples are unchangeable, or immutable as it also is called.\n",
    "#But there is a workaround. You can convert the tuple into a list, change the list, and convert the list back into a tuple.\n",
    "\n",
    "newTuple = (\"Ashir\", \"Aimal\", \"Tayab\", \"Khubaib\" )\n",
    "x = list(newTuple)\n",
    "x[3] = \"Hamza\"\n",
    "print(type(x))\n",
    "newTuple = tuple(x)\n",
    "\n",
    "print(type(newTuple))\n",
    "print(newTuple)"
   ]
  },
  {
   "cell_type": "code",
   "execution_count": 6,
   "id": "2995c483-02f2-4043-a904-2701c767459e",
   "metadata": {},
   "outputs": [
    {
     "name": "stdout",
     "output_type": "stream",
     "text": [
      "Print  beforeappending:\n",
      "('Ashir', 'Aimal', 'Mustafa')\n",
      "\n",
      "Print after appending:\n",
      "('Ashir', 'Aimal', 'Mustafa', 'Khubaib')\n"
     ]
    }
   ],
   "source": [
    "#Adding items in the tuple \n",
    "#You have to change the tuple into the list\n",
    "\n",
    "tuple1 = (\"Ashir\", \"Aimal\", \"Mustafa\")\n",
    "print(\"Print  beforeappending:\")\n",
    "print(tuple1)\n",
    "x = list(tuple1)\n",
    "x.append(\"Khubaib\")\n",
    "tuple1 = tuple(x)\n",
    "\n",
    "print(\"\\nPrint after appending:\")\n",
    "print(tuple1)"
   ]
  },
  {
   "cell_type": "code",
   "execution_count": 9,
   "id": "a5a0a3b9-45cd-4671-9d0d-7841045c5fd3",
   "metadata": {},
   "outputs": [
    {
     "name": "stdout",
     "output_type": "stream",
     "text": [
      "Print  before adding:\n",
      "('Ashir', 'Aimal', 'Mustafa')\n",
      "\n",
      "Print  after adding:\n",
      "('Ashir', 'Aimal', 'Mustafa', 'Khubaib', 'Tayyab', 'Al-Wazeeri')\n"
     ]
    }
   ],
   "source": [
    "#Adding tuple to the tuple\n",
    "\n",
    "tuple1 = (\"Ashir\", \"Aimal\", \"Mustafa\")\n",
    "\n",
    "\n",
    "tuple2 = (\"Khubaib\" , \"Tayyab\" , \"Al-Wazeeri\")\n",
    "\n",
    "print(\"Print  before adding:\")\n",
    "print(tuple1)\n",
    "\n",
    "tuple1 += tuple2\n",
    "\n",
    "print(\"\\nPrint  after adding:\")\n",
    "print(tuple1)"
   ]
  },
  {
   "cell_type": "code",
   "execution_count": 13,
   "id": "afeaf0d0-d884-457e-9f1d-e127fe7a253d",
   "metadata": {},
   "outputs": [
    {
     "name": "stdout",
     "output_type": "stream",
     "text": [
      "('Aimal', 'Mustafa')\n"
     ]
    }
   ],
   "source": [
    "#Removing the item from the tuple\n",
    "\n",
    "tuple1 = (\"Ashir\", \"Aimal\", \"Mustafa\")\n",
    "x = list(tuple1)\n",
    "x.remove(\"Ashir\")\n",
    "tuple1 = tuple(x)\n",
    "print(tuple1)"
   ]
  },
  {
   "cell_type": "code",
   "execution_count": 14,
   "id": "230d1a86-0453-4228-993d-82e6478441d3",
   "metadata": {},
   "outputs": [
    {
     "ename": "NameError",
     "evalue": "name 'tuple1' is not defined",
     "output_type": "error",
     "traceback": [
      "\u001b[1;31m---------------------------------------------------------------------------\u001b[0m",
      "\u001b[1;31mNameError\u001b[0m                                 Traceback (most recent call last)",
      "Cell \u001b[1;32mIn[14], line 6\u001b[0m\n\u001b[0;32m      3\u001b[0m tuple1 \u001b[38;5;241m=\u001b[39m (\u001b[38;5;124m\"\u001b[39m\u001b[38;5;124mAshir\u001b[39m\u001b[38;5;124m\"\u001b[39m, \u001b[38;5;124m\"\u001b[39m\u001b[38;5;124mAimal\u001b[39m\u001b[38;5;124m\"\u001b[39m, \u001b[38;5;124m\"\u001b[39m\u001b[38;5;124mMustafa\u001b[39m\u001b[38;5;124m\"\u001b[39m)\n\u001b[0;32m      4\u001b[0m \u001b[38;5;28;01mdel\u001b[39;00m tuple1\n\u001b[1;32m----> 6\u001b[0m \u001b[38;5;28mprint\u001b[39m(tuple1)\n",
      "\u001b[1;31mNameError\u001b[0m: name 'tuple1' is not defined"
     ]
    }
   ],
   "source": [
    "#Deleting the tuple \n",
    "\n",
    "tuple1 = (\"Ashir\", \"Aimal\", \"Mustafa\")\n",
    "del tuple1\n",
    "\n",
    "print(tuple1)\n",
    "\n",
    "#Raising an error because tuple does not exist now"
   ]
  },
  {
   "cell_type": "code",
   "execution_count": 15,
   "id": "ca69a14f-0600-4431-a384-b13d62552d58",
   "metadata": {},
   "outputs": [
    {
     "name": "stdout",
     "output_type": "stream",
     "text": [
      "Ashir\n",
      "Aimal\n",
      "Mustafa\n"
     ]
    }
   ],
   "source": [
    "#Paking a tuple \n",
    "#When we assign values to the tuples we actually packing the tuple \n",
    "\n",
    "tuple1 = (\"Ashir\", \"Aimal\", \"Mustafa\")\n",
    "\n",
    "#unpacking\n",
    "(Ashir , Aimal , Mustafa) = tuple1\n",
    "\n",
    "print(Ashir)\n",
    "print(Aimal)\n",
    "print(Mustafa)\n"
   ]
  },
  {
   "cell_type": "code",
   "execution_count": 23,
   "id": "1d95c9eb-bce0-4d9b-9d2b-1db2dd786319",
   "metadata": {},
   "outputs": [
    {
     "name": "stdout",
     "output_type": "stream",
     "text": [
      "Bugati\n",
      "Tesla\n",
      "['Range Rover', 'Mercedes', 'BMW', 'Supra', 'Mark-X']\n"
     ]
    }
   ],
   "source": [
    "#Using ASTERIC in the last for Unpacking\n",
    "\n",
    "Cars = (\"Bugati\", \"Tesla\", \"Range Rover\", \"Mercedes\", \"BMW\" , \"Supra\" , \"Mark-X\" )\n",
    "\n",
    "(Pink, Pookie, *AllOther) = Cars\n",
    "\n",
    "print(Pink)\n",
    "print(Pookie)\n",
    "print(AllOther)"
   ]
  },
  {
   "cell_type": "code",
   "execution_count": 22,
   "id": "6927d52e-39cf-4301-baa6-385297925bd8",
   "metadata": {},
   "outputs": [
    {
     "name": "stdout",
     "output_type": "stream",
     "text": [
      "Bugati\n",
      "['Tesla', 'Range Rover', 'Mercedes', 'BMW', 'Supra']\n",
      "Mark-X\n"
     ]
    }
   ],
   "source": [
    "#Using ASTERIC Other than Last One  for Unpacking\n",
    "\n",
    "Cars = (\"Bugati\", \"Tesla\", \"Range Rover\", \"Mercedes\", \"BMW\" , \"Supra\" , \"Mark-X\" )\n",
    "\n",
    "(Pink, *Pookie, Green) = Cars\n",
    "\n",
    "print(Pink)\n",
    "print(Pookie)\n",
    "print(Green)"
   ]
  },
  {
   "cell_type": "code",
   "execution_count": 24,
   "id": "9591f9b6-3242-46fa-a4b2-e25e92a7c425",
   "metadata": {},
   "outputs": [
    {
     "name": "stdout",
     "output_type": "stream",
     "text": [
      "Bugati\n",
      "Tesla\n",
      "Range Rover\n",
      "Mercedes\n",
      "BMW\n",
      "Supra\n",
      "Mark-X\n"
     ]
    }
   ],
   "source": [
    "#Using a Loop through a tuple\n",
    "\n",
    "Cars = (\"Bugati\", \"Tesla\", \"Range Rover\", \"Mercedes\", \"BMW\" , \"Supra\" , \"Mark-X\" )\n",
    "\n",
    "for x in Cars:\n",
    "    print(x)"
   ]
  },
  {
   "cell_type": "code",
   "execution_count": 26,
   "id": "029804a0-6908-4430-a395-1f565d53d7dd",
   "metadata": {},
   "outputs": [
    {
     "name": "stdout",
     "output_type": "stream",
     "text": [
      "Bugati\n",
      "Tesla\n",
      "Range Rover\n",
      "Mercedes\n",
      "BMW\n",
      "Supra\n",
      "Mark-X\n"
     ]
    }
   ],
   "source": [
    "#Looping through the Index Numbers\n",
    "\n",
    "Cars = (\"Bugati\", \"Tesla\", \"Range Rover\", \"Mercedes\", \"BMW\" , \"Supra\" , \"Mark-X\" )\n",
    "for x in range(len(Cars)):\n",
    "  print(Cars[x])"
   ]
  },
  {
   "cell_type": "code",
   "execution_count": 27,
   "id": "e6c333de-88f6-49c9-9551-2910cb0f3d4b",
   "metadata": {},
   "outputs": [
    {
     "name": "stdout",
     "output_type": "stream",
     "text": [
      "Bugati\n",
      "Tesla\n",
      "Range Rover\n",
      "Mercedes\n",
      "BMW\n",
      "Supra\n",
      "Mark-X\n"
     ]
    }
   ],
   "source": [
    "#Printing all the items using While Loop\n",
    "\n",
    "Cars = (\"Bugati\", \"Tesla\", \"Range Rover\", \"Mercedes\", \"BMW\" , \"Supra\" , \"Mark-X\" )\n",
    "i = 0\n",
    "while i < len(Cars):\n",
    "  print(Cars[i])\n",
    "  i = i + 1"
   ]
  },
  {
   "cell_type": "code",
   "execution_count": 28,
   "id": "51a3855a-9254-4ab3-bbc0-b69588140f55",
   "metadata": {},
   "outputs": [
    {
     "name": "stdout",
     "output_type": "stream",
     "text": [
      "('Bugati', 'Tesla', 'Range Rover', 'Mercedes', 'BMW', 'Supra', 'Mark-X')\n"
     ]
    }
   ],
   "source": [
    "#Joining The Touples \n",
    "\n",
    "tuple1 = (\"Bugati\", \"Tesla\", \"Range Rover\")\n",
    "tuple2 = ( \"Mercedes\", \"BMW\" , \"Supra\" , \"Mark-X\" )\n",
    "\n",
    "tuple3 = tuple1 + tuple2\n",
    "\n",
    "print(tuple3)"
   ]
  },
  {
   "cell_type": "code",
   "execution_count": 29,
   "id": "536f4f2b-82f2-4db4-97db-a5d2581dc84c",
   "metadata": {},
   "outputs": [
    {
     "name": "stdout",
     "output_type": "stream",
     "text": [
      "('Bugati', 'Tesla', 'Range Rover', 'Bugati', 'Tesla', 'Range Rover')\n"
     ]
    }
   ],
   "source": [
    "#Multiplying the Tuples\n",
    "\n",
    "tuple1 = (\"Bugati\", \"Tesla\", \"Range Rover\")\n",
    "\n",
    "myNewTuple = tuple1*2\n",
    "\n",
    "print(myNewTuple)\n"
   ]
  },
  {
   "cell_type": "markdown",
   "id": "5f754976-040d-42bb-b03a-1ebef266c8ba",
   "metadata": {},
   "source": [
    "<h2>Python Sets</h2>"
   ]
  },
  {
   "cell_type": "code",
   "execution_count": 35,
   "id": "9c8e19f4-26ca-4a5f-bb83-e4ea8fc8e36e",
   "metadata": {},
   "outputs": [
    {
     "name": "stdout",
     "output_type": "stream",
     "text": [
      "{True, 3, 'Bugati', 'Tesla', 'Range Rover'}\n",
      "<class 'set'>\n"
     ]
    }
   ],
   "source": [
    "#Printing the Sets\n",
    "\n",
    "pythonSet = {\"Bugati\", \"Tesla\", \"Range Rover\", \"Mercedes\", \"BMW\" , \"Supra\" , \"Mark-X\"}\n",
    "\n",
    "print(pythonSets)\n",
    "print(type(pythonSet))"
   ]
  },
  {
   "cell_type": "code",
   "execution_count": 44,
   "id": "41cf3af8-9955-412b-989d-235efe6aad3e",
   "metadata": {},
   "outputs": [
    {
     "name": "stdout",
     "output_type": "stream",
     "text": [
      "\n",
      "True and 1 is considered the same value \n",
      "{True, 3, 'Bugati', 'Tesla', 'Range Rover'}\n",
      "\n",
      "False and 0 are concidered to be the same\n",
      "{False, 'Tesla', 'Range Rover', 'Bugati'}\n",
      "\n",
      "#To get the number of Items in the set\n",
      "4\n",
      "\n",
      "Set Items can be of any data type\n",
      "{False, True}\n",
      "{1, 3, 5, 7, 9}\n",
      "{'Tesla', 'Range Rover', 'Bugati'}\n",
      "\n",
      "Set Items can be of Mix data Types\n",
      "{False, 2, 'Bugati', 'Tesla', 'Range Rover'}\n",
      "\n",
      "Type: \n",
      "<class 'set'>\n",
      "\n",
      " Set constructor to make a set\n",
      "{'apple', 'banana', 'cherry'}\n"
     ]
    }
   ],
   "source": [
    "#True and 1 is considered the same value:\n",
    "pythonSet = {\"Bugati\", \"Tesla\", \"Range Rover\", True , 1, 3}\n",
    "print(\"\\nTrue and 1 is considered the same value \")\n",
    "print(pythonSet)\n",
    "\n",
    "#False and 0 are concidered to be the same \n",
    "pythonSet2 = {\"Bugati\", \"Tesla\", \"Range Rover\", False , 0 , }\n",
    "print(\"\\nFalse and 0 are concidered to be the same\")\n",
    "print(pythonSet2)\n",
    "\n",
    "\n",
    "#To get the number of Items in the set\n",
    "print(\"\\n#To get the number of Items in the set\")\n",
    "print(len(pythonSet2))\n",
    "\n",
    "\n",
    "#Set Items can be of any data type\n",
    "set1 = {True , False , True , True}\n",
    "set2 = {1, 5, 7, 9, 3}\n",
    "set3 = {\"Bugati\", \"Tesla\", \"Range Rover\"}\n",
    "print(\"\\nSet Items can be of any data type\")\n",
    "print(set1)\n",
    "print(set2)\n",
    "print(set3)\n",
    "\n",
    "#Set Items can be of Mix data Types\n",
    "set4 = {\"Bugati\", \"Tesla\", \"Range Rover\", False , 0 , 2 }\n",
    "print(\"\\nSet Items can be of Mix data Types\")\n",
    "print(set4)\n",
    "\n",
    "\n",
    "#type of a set\n",
    "print(\"\\nType: \")\n",
    "print(type(set4))\n",
    "\n",
    "\n",
    "#It is also possible to use the set() constructor to make a set.\n",
    "Fruit = set((\"apple\", \"banana\", \"cherry\")) # note the double round-brackets\n",
    "print(\"\\n Set constructor to make a set\")\n",
    "print(Fruit)"
   ]
  },
  {
   "cell_type": "code",
   "execution_count": 51,
   "id": "6e9958be-335e-4185-b13b-d8b1064ef51d",
   "metadata": {},
   "outputs": [
    {
     "name": "stdout",
     "output_type": "stream",
     "text": [
      "BMW\n",
      "Mercedes\n",
      "Bugati\n",
      "Supra\n",
      "Tesla\n",
      "Range Rover\n",
      "Mark-X\n",
      "\n",
      "Checking if Mercedes is in the set: \n",
      "True\n",
      "\n",
      "Checking if Mercedes is not present in the set: \n",
      "False\n"
     ]
    }
   ],
   "source": [
    "#Accessing the Set using for loop\n",
    "\n",
    "pythonSet = {\"Bugati\", \"Tesla\", \"Range Rover\", \"Mercedes\", \"BMW\" , \"Supra\" , \"Mark-X\"}\n",
    "\n",
    "for x in pythonSet:\n",
    "    print(x)\n",
    "\n",
    "\n",
    "#To check if it is present in the set\n",
    "print(\"\\nChecking if Mercedes is in the set: \")\n",
    "print(\"Mercedes\" in pythonSet)\n",
    "\n",
    "#Checking if it is  not present in the set\n",
    "print(\"\\nChecking if Mercedes is not present in the set: \")\n",
    "\n",
    "print(\"Mercedes\" not in pythonSet)"
   ]
  },
  {
   "cell_type": "code",
   "execution_count": 52,
   "id": "3ccf84c7-da50-475d-87ed-b4b2f5c5b995",
   "metadata": {},
   "outputs": [
    {
     "name": "stdout",
     "output_type": "stream",
     "text": [
      "{'BMW', 'Mercedes', 'Bugati', 'Tesla', 'Range Rover'}\n"
     ]
    }
   ],
   "source": [
    "#Adding into the set\n",
    "\n",
    "pythonSet = {\"Bugati\", \"Tesla\", \"Range Rover\", \"Mercedes\"}\n",
    "pythonSet.add(\"BMW\")\n",
    "print(pythonSet)\n"
   ]
  },
  {
   "cell_type": "code",
   "execution_count": 56,
   "id": "38d1ea4f-b4a0-4af8-9b77-4d0df72d5d91",
   "metadata": {},
   "outputs": [
    {
     "name": "stdout",
     "output_type": "stream",
     "text": [
      "{' Martin', 'Mustang', 'McLaren', 'Porsche', 'Lamborghini', 'Ferrari'}\n"
     ]
    }
   ],
   "source": [
    "#Updating a set\n",
    "cars = {\"Ferrari\", \"Lamborghini\", \"McLaren\"}\n",
    "sportsCars = {\"Porsche\", \" Martin\", \"Mustang\"}\n",
    "\n",
    "cars.update(sportsCars)\n",
    "\n",
    "print(cars)"
   ]
  },
  {
   "cell_type": "code",
   "execution_count": 55,
   "id": "029ffdce-4172-4274-ac7f-9d49089ec341",
   "metadata": {},
   "outputs": [
    {
     "name": "stdout",
     "output_type": "stream",
     "text": [
      "{'BMW', 'Mustang', 'Bugatti', 'Supra', 'Tesla', 'Range Rover'}\n"
     ]
    }
   ],
   "source": [
    "#Add elements of a list to at set:\n",
    "\n",
    "carSet = {\"Bugatti\", \"Tesla\", \"Range Rover\"}  \n",
    "newCars = [\"BMW\", \"Supra\", \"Mustang\"]  \n",
    "\n",
    "carSet.update(newCars)  \n",
    "\n",
    "print(carSet)\n"
   ]
  },
  {
   "cell_type": "code",
   "execution_count": 57,
   "id": "ab0f4da3-15e9-4a61-acc0-949720886faf",
   "metadata": {},
   "outputs": [
    {
     "name": "stdout",
     "output_type": "stream",
     "text": [
      "{'Bugatti', 'Range Rover'}\n"
     ]
    }
   ],
   "source": [
    "#Removing Items from the set\n",
    "\n",
    "carSet = {\"Bugatti\", \"Tesla\", \"Range Rover\"}  \n",
    "\n",
    "carSet.remove(\"Tesla\")  \n",
    "\n",
    "print(carSet)"
   ]
  },
  {
   "cell_type": "code",
   "execution_count": 59,
   "id": "86ac774d-599c-4bb6-a841-7a28bc03d726",
   "metadata": {},
   "outputs": [
    {
     "name": "stdout",
     "output_type": "stream",
     "text": [
      "{'Bugatti', 'Range Rover'}\n"
     ]
    }
   ],
   "source": [
    "#Using Discard Method \n",
    "\n",
    "carSet = {\"Bugatti\", \"Tesla\", \"Range Rover\"}  \n",
    "\n",
    "carSet.discard(\"Tesla\")  \n",
    "\n",
    "print(carSet)\n"
   ]
  },
  {
   "cell_type": "code",
   "execution_count": 60,
   "id": "a8e704db-0264-41e9-b3dc-b7f209e8c1f4",
   "metadata": {},
   "outputs": [
    {
     "name": "stdout",
     "output_type": "stream",
     "text": [
      "Tesla\n",
      "{'Bugatti', 'Range Rover'}\n"
     ]
    }
   ],
   "source": [
    "#Remove a random item by using the pop() method:\n",
    "\n",
    "carSet = {\"Bugatti\", \"Tesla\", \"Range Rover\"}  \n",
    "\n",
    "x = carSet.pop()  \n",
    "\n",
    "print(x)  \n",
    "\n",
    "print(carSet)  \n"
   ]
  },
  {
   "cell_type": "code",
   "execution_count": 61,
   "id": "12879995-9743-4bc2-9f4c-33d3ba1294a4",
   "metadata": {},
   "outputs": [
    {
     "name": "stdout",
     "output_type": "stream",
     "text": [
      "set()\n"
     ]
    }
   ],
   "source": [
    "#Using a clear Method\n",
    "carSet = {\"Bugatti\", \"Tesla\", \"Range Rover\"}  \n",
    "\n",
    "carSet.clear()  \n",
    "\n",
    "print(carSet)\n"
   ]
  },
  {
   "cell_type": "code",
   "execution_count": 62,
   "id": "69e605a2-7424-4684-bfcc-f167020b2153",
   "metadata": {},
   "outputs": [
    {
     "ename": "NameError",
     "evalue": "name 'carSet' is not defined",
     "output_type": "error",
     "traceback": [
      "\u001b[1;31m---------------------------------------------------------------------------\u001b[0m",
      "\u001b[1;31mNameError\u001b[0m                                 Traceback (most recent call last)",
      "Cell \u001b[1;32mIn[62], line 7\u001b[0m\n\u001b[0;32m      3\u001b[0m carSet \u001b[38;5;241m=\u001b[39m {\u001b[38;5;124m\"\u001b[39m\u001b[38;5;124mBugatti\u001b[39m\u001b[38;5;124m\"\u001b[39m, \u001b[38;5;124m\"\u001b[39m\u001b[38;5;124mTesla\u001b[39m\u001b[38;5;124m\"\u001b[39m, \u001b[38;5;124m\"\u001b[39m\u001b[38;5;124mRange Rover\u001b[39m\u001b[38;5;124m\"\u001b[39m}  \n\u001b[0;32m      5\u001b[0m \u001b[38;5;28;01mdel\u001b[39;00m carSet  \n\u001b[1;32m----> 7\u001b[0m \u001b[38;5;28mprint\u001b[39m(carSet)\n",
      "\u001b[1;31mNameError\u001b[0m: name 'carSet' is not defined"
     ]
    }
   ],
   "source": [
    "#Using Del Method\n",
    "\n",
    "carSet = {\"Bugatti\", \"Tesla\", \"Range Rover\"}  \n",
    "\n",
    "del carSet  \n",
    "\n",
    "print(carSet)\n"
   ]
  },
  {
   "cell_type": "code",
   "execution_count": 63,
   "id": "bfd68ef9-2e78-4c05-9071-a02f2673203d",
   "metadata": {},
   "outputs": [
    {
     "name": "stdout",
     "output_type": "stream",
     "text": [
      "Tesla\n",
      "Bugatti\n",
      "Range Rover\n"
     ]
    }
   ],
   "source": [
    "#Using Loop for Printing the Values:\n",
    "\n",
    "carSet = {\"Bugatti\", \"Tesla\", \"Range Rover\"}  \n",
    "\n",
    "for x in carSet:  \n",
    "  print(x)\n"
   ]
  },
  {
   "cell_type": "code",
   "execution_count": 64,
   "id": "e9d93b32-9636-4666-b2e1-30786788392c",
   "metadata": {},
   "outputs": [
    {
     "name": "stdout",
     "output_type": "stream",
     "text": [
      "{1, 2, 3, 'b', 'a', 'c'}\n"
     ]
    }
   ],
   "source": [
    "#Joining the Set\n",
    "\n",
    "set1 = {\"a\", \"b\", \"c\"}\n",
    "set2 = {1, 2, 3}\n",
    "\n",
    "set3 = set1.union(set2)\n",
    "print(set3)\n"
   ]
  },
  {
   "cell_type": "code",
   "execution_count": 66,
   "id": "55257fc8-a953-4077-be36-b326282df23b",
   "metadata": {},
   "outputs": [
    {
     "name": "stdout",
     "output_type": "stream",
     "text": [
      "{1, 2, 3, 'b', 'a', 'c'}\n"
     ]
    }
   ],
   "source": [
    "#Joning Using | symbol\n",
    "\n",
    "set1 = {\"a\", \"b\", \"c\"}\n",
    "set2 = {1, 2, 3}\n",
    "\n",
    "set3 = set1 | set2\n",
    "print(set3)"
   ]
  },
  {
   "cell_type": "code",
   "execution_count": 68,
   "id": "56836e94-41ac-4f5f-a2c8-235af2ad7680",
   "metadata": {},
   "outputs": [
    {
     "name": "stdout",
     "output_type": "stream",
     "text": [
      "{1, 2, 3, 'c', 'a', 'RAnge ROver', 'Supra', 'Bugati', 'Khubaib', 'b', 'Aimal'}\n"
     ]
    }
   ],
   "source": [
    "#Joining Multiple Sets\n",
    "set1 = {\"a\", \"b\", \"c\"}\n",
    "set2 = {1, 2, 3}\n",
    "set3 = {\"Khubaib\", \"Aimal\"}\n",
    "set4 = {\"Supra\", \"RAnge ROver\", \"Bugati\"}\n",
    "\n",
    "myset = set1.union(set2, set3, set4)\n",
    "print(myset)"
   ]
  },
  {
   "cell_type": "code",
   "execution_count": 69,
   "id": "c9c14ce7-f919-4c0e-a86b-07ccc11fb55c",
   "metadata": {},
   "outputs": [
    {
     "name": "stdout",
     "output_type": "stream",
     "text": [
      "{1, 2, 3, 'c', 'a', 'RAnge ROver', 'Supra', 'Bugati', 'Khubaib', 'b', 'Aimal'}\n"
     ]
    }
   ],
   "source": [
    "#Joining Multiple Sets\n",
    "set1 = {\"a\", \"b\", \"c\"}\n",
    "set2 = {1, 2, 3}\n",
    "set3 = {\"Khubaib\", \"Aimal\"}\n",
    "set4 = {\"Supra\", \"RAnge ROver\", \"Bugati\"}\n",
    "\n",
    "myset = set1 | set2 | set3 |set4\n",
    "print(myset)"
   ]
  },
  {
   "cell_type": "code",
   "execution_count": 70,
   "id": "2798959a-ef11-4263-bd30-a64d3da1d83a",
   "metadata": {},
   "outputs": [
    {
     "name": "stdout",
     "output_type": "stream",
     "text": [
      "{1, 2, 3, 'c', 'b', 'a'}\n"
     ]
    }
   ],
   "source": [
    "#Joining A Set and a Tuple\n",
    "\n",
    "x = {\"a\", \"b\", \"c\"}\n",
    "y = (1, 2, 3)\n",
    "\n",
    "z = x.union(y)\n",
    "print(z)"
   ]
  },
  {
   "cell_type": "code",
   "execution_count": 73,
   "id": "da23ca3b-dd6c-4d29-86e0-1e3e44e1c720",
   "metadata": {},
   "outputs": [
    {
     "name": "stdout",
     "output_type": "stream",
     "text": [
      "{1, 2, 'Bugatti', 3, 'Tesla', 'Range Rover'}\n"
     ]
    }
   ],
   "source": [
    "#Updating a Set\n",
    "\n",
    "carSet = {\"Bugatti\", \"Tesla\", \"Range Rover\"}\n",
    "carModels = {1, 2, 3}\n",
    "\n",
    "carSet.update(carModels)\n",
    "print(carSet)\n"
   ]
  },
  {
   "cell_type": "code",
   "execution_count": 74,
   "id": "8c2f4052-8f42-453d-a089-1354b40c2436",
   "metadata": {},
   "outputs": [
    {
     "name": "stdout",
     "output_type": "stream",
     "text": [
      "{'Bugatti'}\n"
     ]
    }
   ],
   "source": [
    "#Intersection Of a Set\n",
    "\n",
    "carSet1 = {\"Bugatti\", \"Tesla\", \"Range Rover\"}\n",
    "carSet2 = {\"BMW\", \"Porsche\", \"Bugatti\"}\n",
    "\n",
    "carSet3 = carSet1.intersection(carSet2)\n",
    "print(carSet3)\n"
   ]
  },
  {
   "cell_type": "code",
   "execution_count": 76,
   "id": "1aa1c32f-36fd-4e9b-9a19-4795ebecfe8b",
   "metadata": {},
   "outputs": [
    {
     "name": "stdout",
     "output_type": "stream",
     "text": [
      "{'Bugatti'}\n"
     ]
    }
   ],
   "source": [
    "#Using & to join 2 sets\n",
    "\n",
    "carSet1 = {\"Bugatti\", \"Tesla\", \"Range Rover\"}\n",
    "carSet2 = {\"BMW\", \"Porsche\", \"Bugatti\"}\n",
    "\n",
    "carSet3 = carSet1 & carSet2\n",
    "print(carSet3)"
   ]
  },
  {
   "cell_type": "code",
   "execution_count": 77,
   "id": "96eea0cc-72ca-4e8e-8a95-7a94a2113e80",
   "metadata": {},
   "outputs": [
    {
     "name": "stdout",
     "output_type": "stream",
     "text": [
      "{False, 1, 'Bugatti'}\n"
     ]
    }
   ],
   "source": [
    "#INtersection\n",
    "\n",
    "carSet1 = {\"Bugatti\", 1, \"Tesla\", 0, \"Range Rover\"}\n",
    "carSet2 = {False, \"BMW\", 1, \"Bugatti\", 2, True}\n",
    "\n",
    "carSet3 = carSet1.intersection(carSet2)\n",
    "\n",
    "print(carSet3)\n"
   ]
  },
  {
   "cell_type": "code",
   "execution_count": 78,
   "id": "0feb1ad1-a0a4-4642-b6a5-b48440de1211",
   "metadata": {},
   "outputs": [
    {
     "name": "stdout",
     "output_type": "stream",
     "text": [
      "{'Tesla', 'Range Rover'}\n"
     ]
    }
   ],
   "source": [
    "#Using Difference Method\n",
    "\n",
    "carSet1 = {\"Bugatti\", \"Tesla\", \"Range Rover\"}\n",
    "carSet2 = {\"BMW\", \"Porsche\", \"Bugatti\"}\n",
    "\n",
    "carSet3 = carSet1.difference(carSet2)\n",
    "\n",
    "print(carSet3)\n"
   ]
  },
  {
   "cell_type": "code",
   "execution_count": 79,
   "id": "f68a746e-807a-4fd4-9f73-9232641d4b41",
   "metadata": {},
   "outputs": [
    {
     "name": "stdout",
     "output_type": "stream",
     "text": [
      "{'Tesla', 'Range Rover'}\n"
     ]
    }
   ],
   "source": [
    "#Use - to join two sets:\n",
    "carSet1 = {\"Bugatti\", \"Tesla\", \"Range Rover\"}\n",
    "carSet2 = {\"BMW\", \"Porsche\", \"Bugatti\"}\n",
    "\n",
    "carSet3 = carSet1 - carSet2\n",
    "print(carSet3)\n",
    "\n"
   ]
  },
  {
   "cell_type": "code",
   "execution_count": 82,
   "id": "aa1f02e2-3007-44f2-9ad8-4f5f49f4b4dd",
   "metadata": {},
   "outputs": [
    {
     "name": "stdout",
     "output_type": "stream",
     "text": [
      "{'Tesla', 'Range Rover'}\n"
     ]
    }
   ],
   "source": [
    "#Use the difference_update() method to keep the items that are not present in both sets:\n",
    "\n",
    "\n",
    "carSet1 = {\"Bugatti\", \"Tesla\", \"Range Rover\"}\n",
    "carSet2 = {\"BMW\", \"Porsche\", \"Bugatti\"}\n",
    "\n",
    "carSet1.difference_update(carSet2)\n",
    "\n",
    "print(carSet1)\n"
   ]
  },
  {
   "cell_type": "code",
   "execution_count": 83,
   "id": "c1a0928f-051d-4ea1-bf66-ee55fb0814aa",
   "metadata": {},
   "outputs": [
    {
     "name": "stdout",
     "output_type": "stream",
     "text": [
      "{'BMW', 'Porsche', 'Tesla', 'Range Rover'}\n"
     ]
    }
   ],
   "source": [
    "#symettric Difference \n",
    "\n",
    "carSet1 = {\"Bugatti\", \"Tesla\", \"Range Rover\"}\n",
    "carSet2 = {\"BMW\", \"Porsche\", \"Bugatti\"}\n",
    "\n",
    "carSet3 = carSet1.symmetric_difference(carSet2)\n",
    "\n",
    "print(carSet3)\n"
   ]
  },
  {
   "cell_type": "code",
   "execution_count": 84,
   "id": "10f3756e-f7f0-4edf-8a2f-4c9c19dc2431",
   "metadata": {},
   "outputs": [
    {
     "name": "stdout",
     "output_type": "stream",
     "text": [
      "{'BMW', 'Porsche', 'Tesla', 'Range Rover'}\n"
     ]
    }
   ],
   "source": [
    "#Using ^ function for joining the set\n",
    "\n",
    "carSet1 = {\"Bugatti\", \"Tesla\", \"Range Rover\"}\n",
    "carSet2 = {\"BMW\", \"Porsche\", \"Bugatti\"}\n",
    "\n",
    "carSet3 = carSet1 ^ carSet2\n",
    "print(carSet3)\n"
   ]
  },
  {
   "cell_type": "code",
   "execution_count": 85,
   "id": "1e77aaba-9402-4a96-8568-dd8b2ffe70ea",
   "metadata": {},
   "outputs": [
    {
     "name": "stdout",
     "output_type": "stream",
     "text": [
      "{'BMW', 'Porsche', 'Tesla', 'Range Rover'}\n"
     ]
    }
   ],
   "source": [
    "carSet1 = {\"Bugatti\", \"Tesla\", \"Range Rover\"}\n",
    "carSet2 = {\"BMW\", \"Porsche\", \"Bugatti\"}\n",
    "\n",
    "carSet1.symmetric_difference_update(carSet2)\n",
    "\n",
    "print(carSet1)\n"
   ]
  },
  {
   "cell_type": "markdown",
   "id": "c4be92c5-2e15-44f3-9b17-f2c3898ca731",
   "metadata": {},
   "source": [
    "<h2>Python Dictionaries</h2>"
   ]
  },
  {
   "cell_type": "code",
   "execution_count": null,
   "id": "d96ea47c-b9ed-495f-9fb2-6f5e420260a9",
   "metadata": {},
   "outputs": [],
   "source": []
  },
  {
   "cell_type": "code",
   "execution_count": 87,
   "id": "5d4ba20b-34cc-4706-8cab-ce6357b77dd7",
   "metadata": {},
   "outputs": [
    {
     "name": "stdout",
     "output_type": "stream",
     "text": [
      "{'brand': 'Ford', 'model': 'Mustang', 'year': 1964}\n",
      "<class 'dict'>\n"
     ]
    }
   ],
   "source": [
    "#Printing the Dictionary\n",
    "\n",
    "thisdict = {\n",
    "  \"brand\": \"Ford\",\n",
    "  \"model\": \"Mustang\",\n",
    "  \"year\": 1964\n",
    "}\n",
    "print(thisdict)\n",
    "print(type(thisdict))"
   ]
  },
  {
   "cell_type": "code",
   "execution_count": 89,
   "id": "f59d09aa-1dea-49ee-a3b2-b05f19cb7d61",
   "metadata": {},
   "outputs": [
    {
     "name": "stdout",
     "output_type": "stream",
     "text": [
      "Ford\n"
     ]
    }
   ],
   "source": [
    "#Accessing the items of the dictionary\n",
    "thisdict = {\n",
    "  \"brand\": \"Ford\",\n",
    "  \"model\": \"Mustang\",\n",
    "  \"year\": 1964\n",
    "}\n",
    "print(thisdict[\"brand\"])"
   ]
  },
  {
   "cell_type": "code",
   "execution_count": 90,
   "id": "b169da99-acdf-435c-a904-8e61aadfe678",
   "metadata": {},
   "outputs": [
    {
     "name": "stdout",
     "output_type": "stream",
     "text": [
      "{'brand': 'Ford', 'model': 'Mustang', 'year': 2020}\n"
     ]
    }
   ],
   "source": [
    "#Overwrite duplicate values\n",
    "\n",
    "thisdict = {\n",
    "  \"brand\": \"Ford\",\n",
    "  \"model\": \"Mustang\",\n",
    "  \"year\": 1964,\n",
    "  \"year\": 2020\n",
    "}\n",
    "print(thisdict)"
   ]
  },
  {
   "cell_type": "markdown",
   "id": "dbea11ef-d783-4d1a-a81d-ff841cdfac5c",
   "metadata": {},
   "source": [
    "<h5>String int and Data Types</h5>"
   ]
  },
  {
   "cell_type": "code",
   "execution_count": 92,
   "id": "9cfefdd6-520b-48bb-bf01-31661dbd7c11",
   "metadata": {},
   "outputs": [
    {
     "name": "stdout",
     "output_type": "stream",
     "text": [
      "{'brand': 'Ford', 'electric': False, 'year': 1964, 'colors': ['red', 'white', 'blue']}\n"
     ]
    }
   ],
   "source": [
    "#String int and list data types\n",
    "thisdict = {\n",
    "  \"brand\": \"Ford\",\n",
    "  \"electric\": False,\n",
    "  \"year\": 1964,\n",
    "  \"colors\": [\"red\", \"white\", \"blue\"]\n",
    "}\n",
    "print(thisdict)\n"
   ]
  },
  {
   "cell_type": "markdown",
   "id": "b7be2ce9-949a-4e3b-8d84-6365448af9b7",
   "metadata": {},
   "source": [
    "<h5>Constructor In Dictionary</h5>"
   ]
  },
  {
   "cell_type": "code",
   "execution_count": 93,
   "id": "821e5473-9dae-463f-b180-e57af0011e5c",
   "metadata": {},
   "outputs": [
    {
     "name": "stdout",
     "output_type": "stream",
     "text": [
      "{'name': 'Khubaib', 'age': 22, 'country': 'Pakistan'}\n"
     ]
    }
   ],
   "source": [
    "#Can be also used as a constructor\n",
    "\n",
    "thisdict = dict(name = \"Khubaib\", age = 22, country = \"Pakistan\")\n",
    "print(thisdict)"
   ]
  },
  {
   "cell_type": "code",
   "execution_count": 96,
   "id": "0d35772a-c5d7-4d3b-9832-965ccb0543f3",
   "metadata": {},
   "outputs": [
    {
     "name": "stdout",
     "output_type": "stream",
     "text": [
      "Mustang\n",
      "dict_keys(['brand', 'model', 'year'])\n"
     ]
    }
   ],
   "source": [
    "#Access the dictionary Items\n",
    "\n",
    "thisdict = {\n",
    "  \"brand\": \"Ford\",\n",
    "  \"model\": \"Mustang\",\n",
    "  \"year\": 1964\n",
    "}\n",
    "x = thisdict[\"model\"]\n",
    "print(x)\n",
    "\n",
    "#Get a list of the keys:\n",
    "\n",
    "x = thisdict.keys()\n",
    "print(x)"
   ]
  },
  {
   "cell_type": "code",
   "execution_count": 98,
   "id": "1a612933-1c60-4ba6-8486-63216829737c",
   "metadata": {},
   "outputs": [
    {
     "name": "stdout",
     "output_type": "stream",
     "text": [
      "dict_keys(['brand', 'model', 'year'])\n",
      "dict_keys(['brand', 'model', 'year', 'color'])\n",
      "dict_values(['Ford', 'Mustang', 1964])\n"
     ]
    }
   ],
   "source": [
    "car = {\n",
    "\"brand\": \"Ford\",\n",
    "\"model\": \"Mustang\",\n",
    "\"year\": 1964\n",
    "}\n",
    "\n",
    "x = car.keys()\n",
    "\n",
    "print(x) #before the change\n",
    "\n",
    "car[\"color\"] = \"white\"\n",
    "\n",
    "print(x) #after the change\n",
    "\n",
    "\n",
    "#Get a list of the values:\n",
    "\n",
    "x = thisdict.values()\n",
    "print(x)"
   ]
  },
  {
   "cell_type": "code",
   "execution_count": 99,
   "id": "18402e65-9382-41a7-9f7f-c23e84d74c97",
   "metadata": {},
   "outputs": [
    {
     "name": "stdout",
     "output_type": "stream",
     "text": [
      "dict_values(['Ford', 'Mustang', 1964])\n",
      "dict_values(['Ford', 'Mustang', 2020])\n"
     ]
    }
   ],
   "source": [
    "#Make a change in the original dictionary, and see that the values list gets updated as well:\n",
    "\n",
    "car = {\n",
    "\"brand\": \"Ford\",\n",
    "\"model\": \"Mustang\",\n",
    "\"year\": 1964\n",
    "}\n",
    "\n",
    "x = car.values()\n",
    "\n",
    "print(x) #before the change\n",
    "\n",
    "car[\"year\"] = 2020\n",
    "\n",
    "print(x) #after the change"
   ]
  },
  {
   "cell_type": "code",
   "execution_count": 102,
   "id": "e3d7b65c-0e34-4c85-9190-5df63cc9f529",
   "metadata": {},
   "outputs": [
    {
     "name": "stdout",
     "output_type": "stream",
     "text": [
      "dict_values(['Ford', 'Mustang', 1964])\n",
      "dict_values(['Ford', 'Mustang', 1964, 'red'])\n",
      "dict_items([('brand', 'Ford'), ('model', 'Mustang'), ('year', 1964)])\n"
     ]
    }
   ],
   "source": [
    "#Add a new item to the original dictionary, and see that the values list gets updated as well:\n",
    "\n",
    "car = {\n",
    "\"brand\": \"Ford\",\n",
    "\"model\": \"Mustang\",\n",
    "\"year\": 1964\n",
    "}\n",
    "\n",
    "x = car.values()\n",
    "\n",
    "print(x) #before the change\n",
    "\n",
    "car[\"color\"] = \"red\"\n",
    "\n",
    "print(x) #after the change\n",
    "\n",
    "\n",
    "\n",
    "#Get a list of the key:value pairs\n",
    "x = thisdict.items()\n",
    "print(x)"
   ]
  },
  {
   "cell_type": "code",
   "execution_count": 103,
   "id": "cd4c91b6-095e-430c-8e00-aaa4d9aa11ea",
   "metadata": {},
   "outputs": [
    {
     "name": "stdout",
     "output_type": "stream",
     "text": [
      "{'brand': 'Ford', 'model': 'Mustang', 'year': 1964, 'color': 'red'}\n"
     ]
    }
   ],
   "source": [
    "#Adding Items to dict\n",
    "\n",
    "thisdict = {\n",
    "  \"brand\": \"Ford\",\n",
    "  \"model\": \"Mustang\",\n",
    "  \"year\": 1964\n",
    "}\n",
    "thisdict[\"color\"] = \"red\"\n",
    "print(thisdict)"
   ]
  },
  {
   "cell_type": "code",
   "execution_count": 105,
   "id": "cd38b9a9-2947-40c1-b55a-87ad7b61071f",
   "metadata": {},
   "outputs": [
    {
     "name": "stdout",
     "output_type": "stream",
     "text": [
      "{'brand': 'Ford', 'model': 'Mustang', 'year': 1964, 'color': 'red'}\n"
     ]
    }
   ],
   "source": [
    "#Updating an Item in dictionary\n",
    "\n",
    "thisdict = {\n",
    "  \"brand\": \"Ford\",\n",
    "  \"model\": \"Mustang\",\n",
    "  \"year\": 1964\n",
    "}\n",
    "thisdict.update({\"color\": \"red\"})\n",
    "print(thisdict)"
   ]
  },
  {
   "cell_type": "code",
   "execution_count": 106,
   "id": "749a4a42-df44-4f01-bef5-736718ddf53f",
   "metadata": {},
   "outputs": [
    {
     "name": "stdout",
     "output_type": "stream",
     "text": [
      "{'brand': 'Ford', 'year': 1964}\n"
     ]
    }
   ],
   "source": [
    "#using pop method to remove items in the dictionary\n",
    "thisdict = {\n",
    "  \"brand\": \"Ford\",\n",
    "  \"model\": \"Mustang\",\n",
    "  \"year\": 1964\n",
    "}\n",
    "thisdict.pop(\"model\")\n",
    "print(thisdict)"
   ]
  },
  {
   "cell_type": "code",
   "execution_count": 107,
   "id": "04c0004c-248f-4ee9-8d5f-cbc91a43e185",
   "metadata": {},
   "outputs": [
    {
     "name": "stdout",
     "output_type": "stream",
     "text": [
      "{'brand': 'Ford', 'model': 'Mustang'}\n"
     ]
    }
   ],
   "source": [
    "#popitem() removes the last item in the dictionary\n",
    "\n",
    "thisdict = {\n",
    "  \"brand\": \"Ford\",\n",
    "  \"model\": \"Mustang\",\n",
    "  \"year\": 1964\n",
    "}\n",
    "thisdict.popitem()\n",
    "print(thisdict)\n",
    "\n"
   ]
  },
  {
   "cell_type": "code",
   "execution_count": 109,
   "id": "03ef6175-0dd1-42c2-bd1d-b894478543bf",
   "metadata": {},
   "outputs": [
    {
     "name": "stdout",
     "output_type": "stream",
     "text": [
      "{'brand': 'Ford', 'year': 1964}\n"
     ]
    }
   ],
   "source": [
    "#Dell will delete the specified key name\n",
    "thisdict = {\n",
    "  \"brand\": \"Ford\",\n",
    "  \"model\": \"Mustang\",\n",
    "  \"year\": 1964\n",
    "}\n",
    "del thisdict[\"model\"]\n",
    "print(thisdict)"
   ]
  },
  {
   "cell_type": "code",
   "execution_count": 110,
   "id": "6681d5c8-294b-492d-be52-f0bb873ccfdb",
   "metadata": {},
   "outputs": [
    {
     "ename": "NameError",
     "evalue": "name 'thisdict' is not defined",
     "output_type": "error",
     "traceback": [
      "\u001b[1;31m---------------------------------------------------------------------------\u001b[0m",
      "\u001b[1;31mNameError\u001b[0m                                 Traceback (most recent call last)",
      "Cell \u001b[1;32mIn[110], line 9\u001b[0m\n\u001b[0;32m      3\u001b[0m thisdict \u001b[38;5;241m=\u001b[39m {\n\u001b[0;32m      4\u001b[0m   \u001b[38;5;124m\"\u001b[39m\u001b[38;5;124mbrand\u001b[39m\u001b[38;5;124m\"\u001b[39m: \u001b[38;5;124m\"\u001b[39m\u001b[38;5;124mFord\u001b[39m\u001b[38;5;124m\"\u001b[39m,\n\u001b[0;32m      5\u001b[0m   \u001b[38;5;124m\"\u001b[39m\u001b[38;5;124mmodel\u001b[39m\u001b[38;5;124m\"\u001b[39m: \u001b[38;5;124m\"\u001b[39m\u001b[38;5;124mMustang\u001b[39m\u001b[38;5;124m\"\u001b[39m,\n\u001b[0;32m      6\u001b[0m   \u001b[38;5;124m\"\u001b[39m\u001b[38;5;124myear\u001b[39m\u001b[38;5;124m\"\u001b[39m: \u001b[38;5;241m1964\u001b[39m\n\u001b[0;32m      7\u001b[0m }\n\u001b[0;32m      8\u001b[0m \u001b[38;5;28;01mdel\u001b[39;00m thisdict\n\u001b[1;32m----> 9\u001b[0m \u001b[38;5;28mprint\u001b[39m(thisdict)\n",
      "\u001b[1;31mNameError\u001b[0m: name 'thisdict' is not defined"
     ]
    }
   ],
   "source": [
    "#The del keyword can also delete the dictionary completely:\n",
    "\n",
    "thisdict = {\n",
    "  \"brand\": \"Ford\",\n",
    "  \"model\": \"Mustang\",\n",
    "  \"year\": 1964\n",
    "}\n",
    "del thisdict\n",
    "print(thisdict)"
   ]
  },
  {
   "cell_type": "code",
   "execution_count": 111,
   "id": "c05af263-c06d-48c4-997c-c2b79a7fa10f",
   "metadata": {},
   "outputs": [
    {
     "name": "stdout",
     "output_type": "stream",
     "text": [
      "{}\n"
     ]
    }
   ],
   "source": [
    "#The clear() method empties the dictionary:\n",
    "\n",
    "thisdict = {\n",
    "  \"brand\": \"Ford\",\n",
    "  \"model\": \"Mustang\",\n",
    "  \"year\": 1964\n",
    "}\n",
    "thisdict.clear()\n",
    "print(thisdict)"
   ]
  },
  {
   "cell_type": "code",
   "execution_count": 4,
   "id": "d626a6ff-c320-460c-baca-d4f570c4e2ef",
   "metadata": {},
   "outputs": [
    {
     "name": "stdout",
     "output_type": "stream",
     "text": [
      "brand\n",
      "model\n",
      "year\n"
     ]
    }
   ],
   "source": [
    "#Printing all key names in the dictionary, one by one:\n",
    "\n",
    "x = {\n",
    "  \"brand\": \"Ford\",\n",
    "  \"model\": \"Mustang\",\n",
    "  \"year\": 1964\n",
    "}\n",
    "for x in x:\n",
    "  print(x)"
   ]
  },
  {
   "cell_type": "code",
   "execution_count": 10,
   "id": "31c9636d-4b96-4d00-b666-5ca64a2fa7c8",
   "metadata": {},
   "outputs": [
    {
     "name": "stdout",
     "output_type": "stream",
     "text": [
      "Ford\n",
      "Mustang\n",
      "1964\n"
     ]
    }
   ],
   "source": [
    "# printing the values\n",
    "\n",
    "x = {\n",
    "  \"brand\": \"Ford\",\n",
    "  \"model\": \"Mustang\",\n",
    "  \"year\": 1964\n",
    "}\n",
    "for x in x.values():\n",
    "  print(x)"
   ]
  },
  {
   "cell_type": "code",
   "execution_count": 11,
   "id": "82948d7e-44ce-4f4a-9be3-dbdaded387ea",
   "metadata": {},
   "outputs": [
    {
     "name": "stdout",
     "output_type": "stream",
     "text": [
      "brand\n",
      "model\n",
      "year\n"
     ]
    }
   ],
   "source": [
    "#Using key method \n",
    "\n",
    "mydict = {\n",
    "  \"brand\": \"Ford\",\n",
    "  \"model\": \"Mustang\",\n",
    "  \"year\": 1964\n",
    "}\n",
    "\n",
    "for x in mydict.keys():\n",
    "  print(x)"
   ]
  },
  {
   "cell_type": "code",
   "execution_count": 12,
   "id": "2c08de4d-ef8e-456d-a588-2ec60081da27",
   "metadata": {},
   "outputs": [
    {
     "name": "stdout",
     "output_type": "stream",
     "text": [
      "brand Ford\n",
      "model Mustang\n",
      "year 1964\n"
     ]
    }
   ],
   "source": [
    "#Loop through both keys and values, by using the items() method:\n",
    "\n",
    "mydict = {\n",
    "  \"brand\": \"Ford\",\n",
    "  \"model\": \"Mustang\",\n",
    "  \"year\": 1964\n",
    "}\n",
    "for x, y in mydict.items():\n",
    "  print(x, y)"
   ]
  },
  {
   "cell_type": "code",
   "execution_count": 14,
   "id": "9988f20e-abdd-4d0b-b8a0-5cd54c96eabb",
   "metadata": {},
   "outputs": [
    {
     "name": "stdout",
     "output_type": "stream",
     "text": [
      "{'brand': 'Ford', 'model': 'Mustang', 'year': 1964}\n",
      "{'brand': 'Ford', 'model': 'Mustang', 'year': 1964}\n"
     ]
    }
   ],
   "source": [
    "#Coping a Dict \n",
    "Olddict = {\n",
    "  \"brand\": \"Ford\",\n",
    "  \"model\": \"Mustang\",\n",
    "  \"year\": 1964\n",
    "}\n",
    "\n",
    "print(Olddict)\n",
    "mydict = mydict.copy()\n",
    "print(mydict)"
   ]
  },
  {
   "cell_type": "code",
   "execution_count": 20,
   "id": "11722f74-5183-4eee-97ac-ed498c9696f6",
   "metadata": {},
   "outputs": [
    {
     "name": "stdout",
     "output_type": "stream",
     "text": [
      "{'brand': 'Ford', 'model': 'Mustang', 'year': 1964}\n"
     ]
    }
   ],
   "source": [
    "#Make a copy of a dictionary with the dict() function:\n",
    "\n",
    "oldDict = {\n",
    "  \"brand\": \"Ford\",\n",
    "  \"model\": \"Mustang\",\n",
    "  \"year\": 1964\n",
    "}\n",
    "mydict = dict(oldDict)\n",
    "print(mydict)"
   ]
  },
  {
   "cell_type": "code",
   "execution_count": 21,
   "id": "90fc4556-f82f-440f-ad8c-9c80d6ebf81a",
   "metadata": {},
   "outputs": [
    {
     "name": "stdout",
     "output_type": "stream",
     "text": [
      "{'child1': {'name': 'Ashir', 'year': 2002}, 'child2': {'name': 'Hamza', 'year': 2004}, 'child3': {'name': 'Tayyab', 'year': 2006}}\n"
     ]
    }
   ],
   "source": [
    "#Create a dictionary that contain three dictionaries:\n",
    "\n",
    "myfamily = {\n",
    "  \"child1\" : {\n",
    "    \"name\" : \"Ashir\",\n",
    "    \"year\" : 2002\n",
    "  },\n",
    "  \"child2\" : {\n",
    "    \"name\" : \"Hamza\",\n",
    "    \"year\" : 2004\n",
    "  },\n",
    "  \"child3\" : {\n",
    "    \"name\" : \"Tayyab\",\n",
    "    \"year\" : 2006\n",
    "  }\n",
    "}\n",
    "\n",
    "print(myfamily)"
   ]
  },
  {
   "cell_type": "code",
   "execution_count": 23,
   "id": "22084211-5be7-461a-9a19-d17ccf0eed30",
   "metadata": {},
   "outputs": [
    {
     "name": "stdout",
     "output_type": "stream",
     "text": [
      "{'child1': {'name': 'Ashir', 'year': 2004}, 'child2': {'name': 'Tayab', 'year': 2007}, 'child3': {'name': 'Hamza', 'year': 2006}}\n"
     ]
    }
   ],
   "source": [
    "#Create three dictionaries, then create one dictionary that will contain the other three dictionaries:\n",
    "\n",
    "child1 = {\n",
    "  \"name\" : \"Ashir\",\n",
    "  \"year\" : 2004\n",
    "}\n",
    "child2 = {\n",
    "  \"name\" : \"Tayab\",\n",
    "  \"year\" : 2007\n",
    "}\n",
    "child3 = {\n",
    "  \"name\" : \"Hamza\",\n",
    "  \"year\" : 2006\n",
    "}\n",
    "\n",
    "myfamily = {\n",
    "  \"child1\" : child1,\n",
    "  \"child2\" : child2,\n",
    "  \"child3\" : child3\n",
    "}\n",
    "\n",
    "print(myfamily)"
   ]
  },
  {
   "cell_type": "code",
   "execution_count": 24,
   "id": "5e956d59-ee99-42ed-8611-521f30fd1582",
   "metadata": {},
   "outputs": [
    {
     "name": "stdout",
     "output_type": "stream",
     "text": [
      "Tayab\n"
     ]
    }
   ],
   "source": [
    "#Access the items in the nested Dictionary\n",
    "\n",
    "print(myfamily[\"child2\"][\"name\"])"
   ]
  },
  {
   "cell_type": "code",
   "execution_count": 25,
   "id": "ac5b1492-af0e-4a69-9a1b-7e7e75a7da31",
   "metadata": {},
   "outputs": [
    {
     "name": "stdout",
     "output_type": "stream",
     "text": [
      "child1\n",
      "name: Ashir\n",
      "year: 2004\n",
      "child2\n",
      "name: Tayab\n",
      "year: 2007\n",
      "child3\n",
      "name: Hamza\n",
      "year: 2006\n"
     ]
    }
   ],
   "source": [
    "#Loop through Nested Dictionaries\n",
    "\n",
    "\n",
    "for x, obj in myfamily.items():\n",
    "  print(x)\n",
    "\n",
    "  for y in obj:\n",
    "    print(y + ':', obj[y])"
   ]
  },
  {
   "cell_type": "markdown",
   "id": "07fb3147-175e-4839-9a79-98225d7bb2e5",
   "metadata": {},
   "source": [
    "<h2>Python If ... Else</h2>"
   ]
  },
  {
   "cell_type": "code",
   "execution_count": 26,
   "id": "94efa773-4f07-4afd-98c8-7c869d46fc01",
   "metadata": {},
   "outputs": [
    {
     "name": "stdout",
     "output_type": "stream",
     "text": [
      "a is greater than b\n"
     ]
    }
   ],
   "source": [
    "a = 20 \n",
    "b = 10\n",
    "\n",
    "if a>b:\n",
    "    print(\"a is greater than b\")"
   ]
  },
  {
   "cell_type": "code",
   "execution_count": 29,
   "id": "cf3f7e96-c2a8-4615-94ec-4526167903a2",
   "metadata": {},
   "outputs": [
    {
     "name": "stdout",
     "output_type": "stream",
     "text": [
      "a and b are equal\n"
     ]
    }
   ],
   "source": [
    "#Elif in the Python\n",
    "\n",
    "a = 33\n",
    "b = 33\n",
    "if b > a:\n",
    "  print(\"b is greater than a\")\n",
    "elif a == b:\n",
    "  print(\"a and b are equal\")"
   ]
  },
  {
   "cell_type": "code",
   "execution_count": 30,
   "id": "a6631d48-eefd-44c6-8e42-9f124cf63dfe",
   "metadata": {},
   "outputs": [
    {
     "name": "stdout",
     "output_type": "stream",
     "text": [
      "a is greater than b\n"
     ]
    }
   ],
   "source": [
    "#The else keyword catches anything which isn't caught by the preceding conditions.\n",
    "\n",
    "\n",
    "a = 200\n",
    "b = 33\n",
    "if b > a:\n",
    "  print(\"b is greater than a\")\n",
    "elif a == b:\n",
    "  print(\"a and b are equal\")\n",
    "else:\n",
    "  print(\"a is greater than b\")"
   ]
  },
  {
   "cell_type": "code",
   "execution_count": 31,
   "id": "b9a72b66-6aa3-4955-9a53-eb321cf7dcc2",
   "metadata": {},
   "outputs": [
    {
     "name": "stdout",
     "output_type": "stream",
     "text": [
      "a is greater than b\n"
     ]
    }
   ],
   "source": [
    "#Short Hand if\n",
    "if a > b: print(\"a is greater than b\")"
   ]
  },
  {
   "cell_type": "code",
   "execution_count": 32,
   "id": "eee8e13e-353a-45a3-a97e-2ba131ac1a60",
   "metadata": {},
   "outputs": [
    {
     "name": "stdout",
     "output_type": "stream",
     "text": [
      "B\n"
     ]
    }
   ],
   "source": [
    "#One line if else statement:\n",
    "\n",
    "a = 2\n",
    "b = 330\n",
    "print(\"A\") if a > b else print(\"B\")"
   ]
  },
  {
   "cell_type": "code",
   "execution_count": 34,
   "id": "064e144d-3f5d-4d04-9471-bd39c9fd8a7f",
   "metadata": {},
   "outputs": [
    {
     "name": "stdout",
     "output_type": "stream",
     "text": [
      "B\n"
     ]
    }
   ],
   "source": [
    "#One line if else statement, with 3 conditions:\n",
    "\n",
    "a = 330\n",
    "b = 330\n",
    "print(\"A\") if a > b else print(\"B\") if a == b else print(\"C\")"
   ]
  },
  {
   "cell_type": "code",
   "execution_count": 35,
   "id": "18556280-075c-4db4-bf77-57e78e8097e0",
   "metadata": {},
   "outputs": [
    {
     "name": "stdout",
     "output_type": "stream",
     "text": [
      "Both conditions are True\n"
     ]
    }
   ],
   "source": [
    "#Checking And Keyword\n",
    "a = 200\n",
    "b = 33\n",
    "c = 500\n",
    "if a > b and c > a:\n",
    "  print(\"Both conditions are True\")\n"
   ]
  },
  {
   "cell_type": "code",
   "execution_count": 36,
   "id": "95986c65-b6e4-4e3f-8f85-a935d6ddde3f",
   "metadata": {},
   "outputs": [
    {
     "name": "stdout",
     "output_type": "stream",
     "text": [
      "At least one of the conditions is True\n"
     ]
    }
   ],
   "source": [
    "#Checking OR condition\n",
    "\n",
    "a = 200\n",
    "b = 33\n",
    "c = 500\n",
    "if a > b or a > c:\n",
    "  print(\"At least one of the conditions is True\")"
   ]
  },
  {
   "cell_type": "code",
   "execution_count": 37,
   "id": "31219d0d-a310-4e7e-9fd9-532ee76ccdbd",
   "metadata": {},
   "outputs": [
    {
     "name": "stdout",
     "output_type": "stream",
     "text": [
      "a is NOT greater than b\n"
     ]
    }
   ],
   "source": [
    "#Checking NOT\n",
    "\n",
    "a = 33\n",
    "b = 200\n",
    "if not a > b:\n",
    "  print(\"a is NOT greater than b\")"
   ]
  },
  {
   "cell_type": "code",
   "execution_count": 38,
   "id": "c5f71db2-f1c8-43c6-9311-942c14065f18",
   "metadata": {},
   "outputs": [
    {
     "name": "stdout",
     "output_type": "stream",
     "text": [
      "Above ten,\n",
      "and also above 20!\n"
     ]
    }
   ],
   "source": [
    "#Nested If\n",
    "\n",
    "x = 41\n",
    "\n",
    "if x > 10:\n",
    "  print(\"Above ten,\")\n",
    "  if x > 20:\n",
    "    print(\"and also above 20!\")\n",
    "  else:\n",
    "    print(\"but not above 20.\")"
   ]
  },
  {
   "cell_type": "code",
   "execution_count": 40,
   "id": "8d98b05b-9589-4850-a776-3885bc20ce1a",
   "metadata": {},
   "outputs": [],
   "source": [
    "#The Pass Statement\n",
    "a = 33\n",
    "b = 200\n",
    "\n",
    "if b > a:\n",
    "  pass"
   ]
  },
  {
   "cell_type": "markdown",
   "id": "4b5117e1-73fc-4eae-aadb-dd90e324bfd4",
   "metadata": {},
   "source": [
    "<h2>Python While Loops</h2>"
   ]
  },
  {
   "cell_type": "code",
   "execution_count": 42,
   "id": "87cf5b17-8892-4ba8-8e0b-c224b879efcc",
   "metadata": {},
   "outputs": [
    {
     "name": "stdout",
     "output_type": "stream",
     "text": [
      "1\n",
      "2\n",
      "3\n",
      "4\n",
      "5\n",
      "6\n",
      "7\n",
      "8\n",
      "9\n"
     ]
    }
   ],
   "source": [
    "i = 1\n",
    "while i < 10:\n",
    "  print(i)\n",
    "  i += 1"
   ]
  },
  {
   "cell_type": "code",
   "execution_count": 46,
   "id": "b9ad96c4-82b6-472a-84a9-df8f3b547cfb",
   "metadata": {},
   "outputs": [
    {
     "name": "stdout",
     "output_type": "stream",
     "text": [
      "1\n",
      "2\n",
      "3\n",
      "4\n",
      "5\n"
     ]
    }
   ],
   "source": [
    "#Break Statement\n",
    "i = 1\n",
    "while i <10:\n",
    "  print(i)\n",
    "  if i == 5:\n",
    "    break\n",
    "  i += 1"
   ]
  },
  {
   "cell_type": "code",
   "execution_count": 45,
   "id": "8286b041-776a-42db-ba0f-a94b6ab83042",
   "metadata": {},
   "outputs": [
    {
     "name": "stdout",
     "output_type": "stream",
     "text": [
      "1\n",
      "2\n",
      "4\n",
      "5\n",
      "6\n"
     ]
    }
   ],
   "source": [
    "#continue Statement\n",
    "i = 0\n",
    "while i < 10:\n",
    "  i += 1\n",
    "  if i == 3:\n",
    "    continue\n",
    "  print(i)"
   ]
  },
  {
   "cell_type": "code",
   "execution_count": 48,
   "id": "913a38b9-515f-4b61-9d64-d401e5657bbb",
   "metadata": {},
   "outputs": [
    {
     "name": "stdout",
     "output_type": "stream",
     "text": [
      "1\n",
      "2\n",
      "3\n",
      "4\n",
      "5\n",
      "6\n",
      "7\n",
      "8\n",
      "9\n",
      "i is no longer less than 10\n"
     ]
    }
   ],
   "source": [
    "#Print the message once the ci=ondition is false\n",
    "\n",
    "i = 1\n",
    "while i < 10:\n",
    "  print(i)\n",
    "  i += 1\n",
    "else:\n",
    "  print(\"i is no longer less than 10\")"
   ]
  },
  {
   "cell_type": "markdown",
   "id": "eeb29ddd-887f-47a1-b02d-e6d0114f38cf",
   "metadata": {},
   "source": [
    "<h2>Python For Loops</h2>"
   ]
  },
  {
   "cell_type": "code",
   "execution_count": 49,
   "id": "1e414eb6-d40e-428c-a3d6-30121e0537e6",
   "metadata": {},
   "outputs": [
    {
     "name": "stdout",
     "output_type": "stream",
     "text": [
      "Hamza\n",
      "Ashir\n",
      "Aimal\n"
     ]
    }
   ],
   "source": [
    "#Printing through for  Loop\n",
    "\n",
    "Names = [\"Hamza\", \"Ashir\", \"Aimal\"]\n",
    "for x in Names:\n",
    "  print(x)"
   ]
  },
  {
   "cell_type": "code",
   "execution_count": 51,
   "id": "b5b8de38-0a98-4b8c-8ec8-92c303328a05",
   "metadata": {},
   "outputs": [
    {
     "name": "stdout",
     "output_type": "stream",
     "text": [
      "A\n",
      "s\n",
      "h\n",
      "i\n",
      "r\n"
     ]
    }
   ],
   "source": [
    "#Loop through the letters in the word :\n",
    "\n",
    "for x in \"Ashir\":\n",
    "  print(x)"
   ]
  },
  {
   "cell_type": "code",
   "execution_count": 54,
   "id": "b0e9fee9-906b-49db-8d7c-b60c8f1281e4",
   "metadata": {},
   "outputs": [
    {
     "name": "stdout",
     "output_type": "stream",
     "text": [
      "Ashir\n",
      "Aimal\n"
     ]
    }
   ],
   "source": [
    "#Exit the loop when x is some given value:\n",
    "\n",
    "list1 = [\"Ashir\", \"Aimal\", \"Hamza\"]\n",
    "for x in list1:\n",
    "  print(x)\n",
    "  if x == \"Aimal\":\n",
    "    break"
   ]
  },
  {
   "cell_type": "code",
   "execution_count": 55,
   "id": "9a970389-b3d8-4bc6-9b5f-f1ba9491caf8",
   "metadata": {},
   "outputs": [
    {
     "name": "stdout",
     "output_type": "stream",
     "text": [
      "Aimal\n"
     ]
    }
   ],
   "source": [
    "#Exit the loop when x is \"Hamza\", but this time the break comes before the print:\n",
    "\n",
    "list1 = [\"Aimal\", \"Hamza\", \"Ashir\"]\n",
    "for x in list1:\n",
    "  if x == \"Hamza\":\n",
    "    break\n",
    "  print(x)"
   ]
  },
  {
   "cell_type": "code",
   "execution_count": 56,
   "id": "082ad87e-c636-4108-aad2-c3cdfb27c71b",
   "metadata": {},
   "outputs": [
    {
     "name": "stdout",
     "output_type": "stream",
     "text": [
      "Tayab\n",
      "Ahmad\n"
     ]
    }
   ],
   "source": [
    "#Do not print Hamza:\n",
    "\n",
    "Names = [\"Tayab\", \"Hamza\", \"Ahmad\"]\n",
    "for x in Names:\n",
    "  if x == \"Hamza\":\n",
    "    continue\n",
    "  print(x)"
   ]
  },
  {
   "cell_type": "code",
   "execution_count": 57,
   "id": "9f7c1219-3c47-4051-b4d9-e86e6f4e3969",
   "metadata": {},
   "outputs": [
    {
     "name": "stdout",
     "output_type": "stream",
     "text": [
      "2\n",
      "3\n",
      "4\n",
      "5\n"
     ]
    }
   ],
   "source": [
    "#Range Function\n",
    "\n",
    "\n",
    "for x in range(2, 6):\n",
    "  print(x)"
   ]
  },
  {
   "cell_type": "code",
   "execution_count": 58,
   "id": "a8fcfbc9-0bbc-4701-86b8-31db6b783236",
   "metadata": {},
   "outputs": [
    {
     "name": "stdout",
     "output_type": "stream",
     "text": [
      "2\n",
      "5\n",
      "8\n",
      "11\n",
      "14\n",
      "17\n",
      "20\n",
      "23\n",
      "26\n",
      "29\n"
     ]
    }
   ],
   "source": [
    "#Increment the sequence with 3 (default is 1):\n",
    "\n",
    "for x in range(2, 30, 3):\n",
    "  print(x)"
   ]
  },
  {
   "cell_type": "code",
   "execution_count": 59,
   "id": "f3a55b6e-e594-4fbc-bc2d-cdaeb3c07892",
   "metadata": {},
   "outputs": [
    {
     "name": "stdout",
     "output_type": "stream",
     "text": [
      "0\n",
      "1\n",
      "2\n",
      "3\n",
      "4\n",
      "5\n",
      "Finally finished!\n"
     ]
    }
   ],
   "source": [
    "#Print a message when complete a range\n",
    "for x in range(6):\n",
    "  print(x)\n",
    "else:\n",
    "  print(\"Finally finished!\")"
   ]
  },
  {
   "cell_type": "code",
   "execution_count": 60,
   "id": "4a65292e-72b6-4953-b3c5-fd258bf7da3e",
   "metadata": {},
   "outputs": [
    {
     "name": "stdout",
     "output_type": "stream",
     "text": [
      "0\n",
      "1\n",
      "2\n"
     ]
    }
   ],
   "source": [
    "#Break the loop when x is 3, and see what happens with the else block:\n",
    "\n",
    "for x in range(6):\n",
    "  if x == 3: break\n",
    "  print(x)\n",
    "else:\n",
    "  print(\"Finally finished!\")"
   ]
  },
  {
   "cell_type": "code",
   "execution_count": 61,
   "id": "81fb8296-30bd-48f1-8aad-8de2384faa5c",
   "metadata": {},
   "outputs": [
    {
     "name": "stdout",
     "output_type": "stream",
     "text": [
      "red apple\n",
      "red banana\n",
      "red cherry\n",
      "big apple\n",
      "big banana\n",
      "big cherry\n",
      "tasty apple\n",
      "tasty banana\n",
      "tasty cherry\n"
     ]
    }
   ],
   "source": [
    "#Print each adjective for every fruit:\n",
    "\n",
    "adj = [\"red\", \"big\", \"tasty\"]\n",
    "fruits = [\"apple\", \"banana\", \"cherry\"]\n",
    "\n",
    "for x in adj:\n",
    "  for y in fruits:\n",
    "    print(x, y)"
   ]
  },
  {
   "cell_type": "code",
   "execution_count": 62,
   "id": "f0d88b09-b059-4cd4-b262-06313d2a6857",
   "metadata": {},
   "outputs": [],
   "source": [
    "for x in [0, 1, 2]:\n",
    "  pass"
   ]
  },
  {
   "cell_type": "markdown",
   "id": "9201de81-0ada-4217-a186-54bf12c83348",
   "metadata": {},
   "source": [
    "<h2>Python Regular Functions... Args & kwargs</h2>"
   ]
  },
  {
   "cell_type": "code",
   "execution_count": 63,
   "id": "492de946-f715-4027-aa49-8083886810a0",
   "metadata": {},
   "outputs": [
    {
     "name": "stdout",
     "output_type": "stream",
     "text": [
      "Hello from a function\n"
     ]
    }
   ],
   "source": [
    "def my_function():\n",
    "  print(\"Hello from a function\")\n",
    "\n",
    "my_function()"
   ]
  },
  {
   "cell_type": "code",
   "execution_count": 64,
   "id": "17cecb9b-a8c8-429e-9a49-4a1e60b2c189",
   "metadata": {},
   "outputs": [
    {
     "name": "stdout",
     "output_type": "stream",
     "text": [
      "Ashir Khan\n",
      "Aimal Khan\n",
      "Tayab Khan\n"
     ]
    }
   ],
   "source": [
    "#Function With Arguments\n",
    "\n",
    "def my_function(name):\n",
    "  print(name + \" Khan\")\n",
    "\n",
    "my_function(\"Ashir\")\n",
    "my_function(\"Aimal\")\n",
    "my_function(\"Tayab\")"
   ]
  },
  {
   "cell_type": "code",
   "execution_count": 67,
   "id": "0096fb10-849d-421d-955b-e5eb9ed14783",
   "metadata": {},
   "outputs": [
    {
     "name": "stdout",
     "output_type": "stream",
     "text": [
      "Ashir Khan\n"
     ]
    }
   ],
   "source": [
    "#TWO agruments\n",
    "\n",
    "def my_function(fname, lname):\n",
    "  print(fname + \" \" + lname)\n",
    "\n",
    "my_function(\"Ashir\", \"Khan\")"
   ]
  },
  {
   "cell_type": "code",
   "execution_count": 69,
   "id": "d10adabd-988d-49c7-b6df-5c630edceb52",
   "metadata": {},
   "outputs": [
    {
     "name": "stdout",
     "output_type": "stream",
     "text": [
      "The youngest child is Mustafa\n"
     ]
    }
   ],
   "source": [
    "#If the number of arguments is unknown, add a * before the parameter name:\n",
    "\n",
    "def my_function(*kids):\n",
    "  print(\"The youngest child is \" + kids[2])\n",
    "\n",
    "my_function(\"Aimal\", \"Tayab\", \"Mustafa\")"
   ]
  },
  {
   "cell_type": "code",
   "execution_count": 70,
   "id": "aa39a175-20c0-422f-a992-3d33a8c4b4fc",
   "metadata": {},
   "outputs": [
    {
     "name": "stdout",
     "output_type": "stream",
     "text": [
      "The youngest child is Ashir\n"
     ]
    }
   ],
   "source": [
    "#You can also send arguments with the key = value syntax.\n",
    "\n",
    "def my_function(child3, child2, child1):\n",
    "  print(\"The youngest child is \" + child3)\n",
    "\n",
    "my_function(child1 = \"Alina\", child2 = \"Tayab\", child3 = \"Ashir\")"
   ]
  },
  {
   "cell_type": "code",
   "execution_count": 72,
   "id": "51d4f337-21c2-427a-aeea-75022a77f30e",
   "metadata": {},
   "outputs": [
    {
     "name": "stdout",
     "output_type": "stream",
     "text": [
      "His last name is Ashir\n"
     ]
    }
   ],
   "source": [
    "#the number of keyword arguments is unknown, add a double ** before the parameter name:\n",
    "\n",
    "def my_function(**kid):\n",
    "  print(\"His last name is \" + kid[\"lname\"])\n",
    "\n",
    "my_function(fname = \"Muhammad\", lname = \"Ashir\")"
   ]
  },
  {
   "cell_type": "code",
   "execution_count": 75,
   "id": "661096b7-31c9-4ad0-8d6e-a14d94314a9e",
   "metadata": {},
   "outputs": [
    {
     "name": "stdout",
     "output_type": "stream",
     "text": [
      "I am from Bangladesh\n",
      "I am from India\n",
      "I am from Pakistan\n",
      "I am from America\n"
     ]
    }
   ],
   "source": [
    "#The following example shows how to use a default parameter value.\n",
    "\n",
    "def my_function(country = \"Pakistan\"):\n",
    "  print(\"I am from \" + country)\n",
    "\n",
    "my_function(\"Bangladesh\")\n",
    "my_function(\"India\")\n",
    "my_function()\n",
    "my_function(\"America\")"
   ]
  },
  {
   "cell_type": "code",
   "execution_count": 80,
   "id": "8544d429-bc7c-4748-b915-c2713dd12e2e",
   "metadata": {},
   "outputs": [
    {
     "name": "stdout",
     "output_type": "stream",
     "text": [
      "tayab\n",
      "Ashir\n",
      "ahmad\n"
     ]
    }
   ],
   "source": [
    "#Passing a List as an Argument\n",
    "\n",
    "def my_function(food):\n",
    "\n",
    "  for x in food:\n",
    "    print(x)\n",
    "\n",
    "Names = [\"tayab\", \"Ashir\", \"ahmad\"]\n",
    "\n",
    "my_function(Names)"
   ]
  },
  {
   "cell_type": "code",
   "execution_count": 81,
   "id": "2543a934-7527-4905-a630-f5afdfea8059",
   "metadata": {},
   "outputs": [
    {
     "name": "stdout",
     "output_type": "stream",
     "text": [
      "15\n",
      "25\n",
      "45\n"
     ]
    }
   ],
   "source": [
    "#Return Values\n",
    "def my_function(x):\n",
    "  return 5 * x\n",
    "\n",
    "print(my_function(3))\n",
    "print(my_function(5))\n",
    "print(my_function(9))"
   ]
  },
  {
   "cell_type": "code",
   "execution_count": 82,
   "id": "6928dfa7-0bdd-4a6c-9202-667f2c0850a8",
   "metadata": {},
   "outputs": [],
   "source": [
    "def myfunction():\n",
    "  pass"
   ]
  },
  {
   "cell_type": "code",
   "execution_count": 85,
   "id": "257ff164-5dd0-45ec-9dae-90d8f0e1fc02",
   "metadata": {},
   "outputs": [
    {
     "name": "stdout",
     "output_type": "stream",
     "text": [
      "3\n"
     ]
    }
   ],
   "source": [
    "#Positional-Only Arguments\n",
    "\n",
    "def my_function(x, /):\n",
    "  print(x)\n",
    "\n",
    "my_function(3)\n"
   ]
  },
  {
   "cell_type": "code",
   "execution_count": 84,
   "id": "931b4517-0e9f-49cf-ae3e-398850508522",
   "metadata": {},
   "outputs": [
    {
     "name": "stdout",
     "output_type": "stream",
     "text": [
      "3\n"
     ]
    }
   ],
   "source": [
    "#Keyword-Only Arguments\n",
    "\n",
    "def my_function(*, x):\n",
    "  print(x)\n",
    "\n",
    "my_function(x = 3)"
   ]
  },
  {
   "cell_type": "code",
   "execution_count": 86,
   "id": "84724ee3-b8a5-487a-af50-7cc475c58ddc",
   "metadata": {},
   "outputs": [
    {
     "name": "stdout",
     "output_type": "stream",
     "text": [
      "26\n"
     ]
    }
   ],
   "source": [
    "#Positional-Only Arguments\n",
    "def my_function(a, b, /, *, c, d):\n",
    "  print(a + b + c + d)\n",
    "\n",
    "my_function(5, 6, c = 7, d = 8)"
   ]
  },
  {
   "cell_type": "code",
   "execution_count": 87,
   "id": "63c123c2-2b11-4544-92cc-831197ee95e0",
   "metadata": {},
   "outputs": [
    {
     "name": "stdout",
     "output_type": "stream",
     "text": [
      "Recursion Example Results:\n",
      "1\n",
      "3\n",
      "6\n",
      "10\n",
      "15\n",
      "21\n"
     ]
    },
    {
     "data": {
      "text/plain": [
       "21"
      ]
     },
     "execution_count": 87,
     "metadata": {},
     "output_type": "execute_result"
    }
   ],
   "source": [
    "#Recursion\n",
    "\n",
    "def tri_recursion(k):\n",
    "  if(k > 0):\n",
    "    result = k + tri_recursion(k - 1)\n",
    "    print(result)\n",
    "  else:\n",
    "    result = 0\n",
    "  return result\n",
    "\n",
    "print(\"Recursion Example Results:\")\n",
    "tri_recursion(6)"
   ]
  },
  {
   "cell_type": "markdown",
   "id": "205e8e71-7679-46a5-84ee-5e84259cbb8d",
   "metadata": {},
   "source": [
    "<h2>Python Classes</h2>"
   ]
  },
  {
   "cell_type": "code",
   "execution_count": 89,
   "id": "6ec447cf-377b-41c1-80ac-c02595d31a80",
   "metadata": {},
   "outputs": [],
   "source": [
    "#creating a class using key-word class\n",
    "class MyClass:\n",
    "  x = 5"
   ]
  },
  {
   "cell_type": "code",
   "execution_count": 91,
   "id": "a1a05792-6613-4990-a215-0c43ff6b4943",
   "metadata": {},
   "outputs": [
    {
     "name": "stdout",
     "output_type": "stream",
     "text": [
      "5\n"
     ]
    }
   ],
   "source": [
    "#creating an object\n",
    "\n",
    "p1 = MyClass()\n",
    "print(p1.x)"
   ]
  },
  {
   "cell_type": "code",
   "execution_count": 94,
   "id": "78e977f4-1283-4a5c-bb0f-c94fb1ba912e",
   "metadata": {},
   "outputs": [
    {
     "name": "stdout",
     "output_type": "stream",
     "text": [
      "Ashir\n",
      "26\n"
     ]
    }
   ],
   "source": [
    "#The __init__() Function\n",
    "\n",
    "class Person:\n",
    "  def __init__(self, name, age):\n",
    "    self.name = name\n",
    "    self.age = age\n",
    "\n",
    "p1 = Person(\"Ashir\", 26)\n",
    "\n",
    "print(p1.name)\n",
    "print(p1.age)"
   ]
  },
  {
   "cell_type": "code",
   "execution_count": 96,
   "id": "d41f431b-aad7-4a96-9f93-d3c6df5fb3d2",
   "metadata": {},
   "outputs": [
    {
     "name": "stdout",
     "output_type": "stream",
     "text": [
      "Ashir(20)\n"
     ]
    }
   ],
   "source": [
    "#The __str__() function:\n",
    "\n",
    "class Person:\n",
    "  def __init__(self, name, age):\n",
    "    self.name = name\n",
    "    self.age = age\n",
    "\n",
    "  def __str__(self):\n",
    "    return f\"{self.name}({self.age})\"\n",
    "\n",
    "p1 = Person(\"Ashir\", 20)\n",
    "\n",
    "print(p1)"
   ]
  },
  {
   "cell_type": "code",
   "execution_count": 98,
   "id": "6d12ae68-67f9-448e-80f3-2085fe72435c",
   "metadata": {},
   "outputs": [
    {
     "name": "stdout",
     "output_type": "stream",
     "text": [
      "Hello my name is ASHIR KHAN\n"
     ]
    }
   ],
   "source": [
    "#Object Methods\n",
    "\n",
    "class Person:\n",
    "  def __init__(self, name, age):\n",
    "    self.name = name\n",
    "    self.age = age\n",
    "\n",
    "  def myfunc(self):\n",
    "    print(\"Hello my name is \" + self.name)\n",
    "\n",
    "p1 = Person(\"ASHIR KHAN\", 36)\n",
    "p1.myfunc()\n"
   ]
  },
  {
   "cell_type": "code",
   "execution_count": 101,
   "id": "c20777d7-b7b6-4f22-b0d6-a0f62f336272",
   "metadata": {},
   "outputs": [
    {
     "name": "stdout",
     "output_type": "stream",
     "text": [
      "40\n"
     ]
    }
   ],
   "source": [
    "#Modify Object Properties\n",
    "\n",
    "p1.age = 40\n",
    "print(p1.age)"
   ]
  },
  {
   "cell_type": "code",
   "execution_count": 103,
   "id": "86e5337e-2e8c-4520-8c13-6611a78502e4",
   "metadata": {},
   "outputs": [
    {
     "ename": "AttributeError",
     "evalue": "'Person' object has no attribute 'age'",
     "output_type": "error",
     "traceback": [
      "\u001b[1;31m---------------------------------------------------------------------------\u001b[0m",
      "\u001b[1;31mAttributeError\u001b[0m                            Traceback (most recent call last)",
      "Cell \u001b[1;32mIn[103], line 2\u001b[0m\n\u001b[0;32m      1\u001b[0m \u001b[38;5;66;03m#Delete Object Properties\u001b[39;00m\n\u001b[1;32m----> 2\u001b[0m \u001b[38;5;28;01mdel\u001b[39;00m p1\u001b[38;5;241m.\u001b[39mage\n\u001b[0;32m      3\u001b[0m \u001b[38;5;28mprint\u001b[39m(p1\u001b[38;5;241m.\u001b[39mage)\n",
      "\u001b[1;31mAttributeError\u001b[0m: 'Person' object has no attribute 'age'"
     ]
    }
   ],
   "source": [
    "#Delete Object Properties\n",
    "del p1.age\n",
    "print(p1.age)"
   ]
  },
  {
   "cell_type": "code",
   "execution_count": 104,
   "id": "0c19d8e2-b713-4370-a05e-f211f71579f0",
   "metadata": {},
   "outputs": [],
   "source": [
    "#deleting Object\n",
    "\n",
    "del p1\n"
   ]
  },
  {
   "cell_type": "code",
   "execution_count": 105,
   "id": "158274a6-2a5e-46f0-8420-3d0af8bfc12c",
   "metadata": {},
   "outputs": [],
   "source": [
    "#Pass Function\n",
    "class Person:\n",
    "  pass"
   ]
  }
 ],
 "metadata": {
  "kernelspec": {
   "display_name": "Python 3 (ipykernel)",
   "language": "python",
   "name": "python3"
  },
  "language_info": {
   "codemirror_mode": {
    "name": "ipython",
    "version": 3
   },
   "file_extension": ".py",
   "mimetype": "text/x-python",
   "name": "python",
   "nbconvert_exporter": "python",
   "pygments_lexer": "ipython3",
   "version": "3.12.7"
  }
 },
 "nbformat": 4,
 "nbformat_minor": 5
}

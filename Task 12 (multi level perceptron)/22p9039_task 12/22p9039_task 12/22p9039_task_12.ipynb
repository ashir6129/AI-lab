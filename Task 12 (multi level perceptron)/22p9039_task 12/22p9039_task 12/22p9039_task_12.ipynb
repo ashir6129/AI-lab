{
  "nbformat": 4,
  "nbformat_minor": 0,
  "metadata": {
    "colab": {
      "provenance": []
    },
    "kernelspec": {
      "name": "python3",
      "display_name": "Python 3"
    },
    "language_info": {
      "name": "python"
    }
  },
  "cells": [
    {
      "cell_type": "code",
      "execution_count": 2,
      "metadata": {
        "colab": {
          "base_uri": "https://localhost:8080/"
        },
        "id": "5_lExRPR32Kp",
        "outputId": "63ce1a2b-fb8d-4031-f533-5c1ad4932ade"
      },
      "outputs": [
        {
          "output_type": "stream",
          "name": "stdout",
          "text": [
            "<class 'pandas.core.frame.DataFrame'>\n",
            "RangeIndex: 506 entries, 0 to 505\n",
            "Data columns (total 14 columns):\n",
            " #   Column   Non-Null Count  Dtype  \n",
            "---  ------   --------------  -----  \n",
            " 0   CRIM     486 non-null    float64\n",
            " 1   ZN       486 non-null    float64\n",
            " 2   INDUS    486 non-null    float64\n",
            " 3   CHAS     486 non-null    float64\n",
            " 4   NOX      506 non-null    float64\n",
            " 5   RM       506 non-null    float64\n",
            " 6   AGE      486 non-null    float64\n",
            " 7   DIS      506 non-null    float64\n",
            " 8   RAD      506 non-null    int64  \n",
            " 9   TAX      506 non-null    int64  \n",
            " 10  PTRATIO  506 non-null    float64\n",
            " 11  B        506 non-null    float64\n",
            " 12  LSTAT    486 non-null    float64\n",
            " 13  MEDV     506 non-null    float64\n",
            "dtypes: float64(12), int64(2)\n",
            "memory usage: 55.5 KB\n",
            "Dataset Info:\n",
            " None\n",
            "\n",
            "Missing Values:\n",
            " CRIM       20\n",
            "ZN         20\n",
            "INDUS      20\n",
            "CHAS       20\n",
            "NOX         0\n",
            "RM          0\n",
            "AGE        20\n",
            "DIS         0\n",
            "RAD         0\n",
            "TAX         0\n",
            "PTRATIO     0\n",
            "B           0\n",
            "LSTAT      20\n",
            "MEDV        0\n",
            "dtype: int64\n"
          ]
        }
      ],
      "source": [
        "# Import necessary libraries\n",
        "import pandas as pd\n",
        "import numpy as np\n",
        "from sklearn.model_selection import train_test_split\n",
        "from sklearn.preprocessing import StandardScaler\n",
        "\n",
        "# Load the Boston Housing dataset\n",
        "data = pd.read_csv(\"boston.csv\")\n",
        "\n",
        "# Display basic information to understand structure\n",
        "print(\"Dataset Info:\\n\", data.info())\n",
        "\n",
        "# Drop unnecessary columns (like 'Unnamed: 0' which is an index column)\n",
        "if 'Unnamed: 0' in data.columns:\n",
        "    data.drop(columns=['Unnamed: 0'], inplace=True)\n",
        "\n",
        "# Check for missing values\n",
        "print(\"\\nMissing Values:\\n\", data.isnull().sum())\n",
        "\n",
        "# Drop rows with missing values (if any)\n",
        "data.dropna(inplace=True)\n",
        "\n",
        "# Split data into features and target\n",
        "X = data.drop(columns=['MEDV'])  # MEDV is the target variable (housing price)\n",
        "y = data['MEDV']\n",
        "\n",
        "# Normalize the features using StandardScaler (zero mean, unit variance)\n",
        "scaler = StandardScaler()\n",
        "X_scaled = scaler.fit_transform(X)\n"
      ]
    },
    {
      "cell_type": "markdown",
      "source": [
        "# New Section"
      ],
      "metadata": {
        "id": "iKakJmES4DXk"
      }
    },
    {
      "cell_type": "code",
      "source": [
        "# Define a class to handle training and evaluation of MLP models\n",
        "class MLPModelTrainer:\n",
        "    def __init__(self, X_train, X_test, y_train, y_test):\n",
        "        self.X_train = X_train\n",
        "        self.X_test = X_test\n",
        "        self.y_train = y_train\n",
        "        self.y_test = y_test\n",
        "        self.results = {}\n",
        "\n",
        "    def build_model(self, input_shape, hidden_layers, units):\n",
        "        model = tf.keras.Sequential()\n",
        "        model.add(Dense(units, activation='relu', input_shape=(input_shape,)))\n",
        "\n",
        "        for _ in range(hidden_layers - 1):\n",
        "            model.add(Dense(units, activation='relu'))\n",
        "\n",
        "        model.add(Dense(1))  # Output layer for regression\n",
        "        model.compile(optimizer='adam', loss='mse')\n",
        "        return model\n",
        "\n",
        "    def train_and_evaluate(self, configs):\n",
        "        for layers, units in configs:\n",
        "            model = self.build_model(input_shape=self.X_train.shape[1],\n",
        "                                     hidden_layers=layers,\n",
        "                                     units=units)\n",
        "            model.fit(self.X_train, self.y_train, epochs=100, batch_size=16, verbose=0)\n",
        "            mse = model.evaluate(self.X_test, self.y_test, verbose=0)\n",
        "            config_name = f\"{layers} Layers, {units} Units\"\n",
        "            self.results[config_name] = mse\n",
        "            print(f\"{config_name} => MSE: {mse:.4f}\")\n",
        "\n",
        "    def plot_results(self):\n",
        "        import matplotlib.pyplot as plt\n",
        "        plt.figure(figsize=(10, 6))\n",
        "        plt.bar(self.results.keys(), self.results.values(), color='orange')\n",
        "        plt.ylabel('Mean Squared Error')\n",
        "        plt.xlabel('Architecture')\n",
        "        plt.title('MLP Architecture Comparison')\n",
        "        plt.xticks(rotation=45)\n",
        "        plt.tight_layout()\n",
        "        plt.show()\n"
      ],
      "metadata": {
        "id": "W9_ON4iF4MYm"
      },
      "execution_count": 6,
      "outputs": []
    },
    {
      "cell_type": "code",
      "source": [
        "from tensorflow.keras import Input\n",
        "\n",
        "def build_model(self, input_shape, hidden_layers, units):\n",
        "    model = tf.keras.Sequential()\n",
        "\n",
        "    # Add Input layer explicitly\n",
        "    model.add(Input(shape=(input_shape,)))\n",
        "\n",
        "    # First hidden layer\n",
        "    model.add(Dense(units, activation='relu'))\n",
        "\n",
        "    # Additional hidden layers\n",
        "    for _ in range(hidden_layers - 1):\n",
        "        model.add(Dense(units, activation='relu'))\n",
        "\n",
        "    # Output layer\n",
        "    model.add(Dense(1))  # Regression output\n",
        "    model.compile(optimizer='adam', loss='mse')\n",
        "    return model\n"
      ],
      "metadata": {
        "id": "jLYoudqC4UUR"
      },
      "execution_count": 8,
      "outputs": []
    },
    {
      "cell_type": "code",
      "source": [
        "# Define the list of architectures\n",
        "architectures_to_test = [\n",
        "    (1, 32),\n",
        "    (2, 64),\n",
        "    (3, 128),\n",
        "    (2, 128),\n",
        "    (3, 256)\n",
        "]\n",
        "\n",
        "# Initialize and run training\n",
        "trainer = MLPModelTrainer(X_train, X_test, y_train, y_test)\n",
        "trainer.train_and_evaluate(architectures_to_test)\n",
        "trainer.plot_results()\n"
      ],
      "metadata": {
        "colab": {
          "base_uri": "https://localhost:8080/",
          "height": 893
        },
        "id": "LkF_YOPY8uRk",
        "outputId": "15b07527-872d-499b-bae6-d41062ec7b3b"
      },
      "execution_count": 9,
      "outputs": [
        {
          "output_type": "stream",
          "name": "stderr",
          "text": [
            "/usr/local/lib/python3.11/dist-packages/keras/src/layers/core/dense.py:87: UserWarning: Do not pass an `input_shape`/`input_dim` argument to a layer. When using Sequential models, prefer using an `Input(shape)` object as the first layer in the model instead.\n",
            "  super().__init__(activity_regularizer=activity_regularizer, **kwargs)\n"
          ]
        },
        {
          "output_type": "stream",
          "name": "stdout",
          "text": [
            "1 Layers, 32 Units => MSE: 31.5235\n"
          ]
        },
        {
          "output_type": "stream",
          "name": "stderr",
          "text": [
            "/usr/local/lib/python3.11/dist-packages/keras/src/layers/core/dense.py:87: UserWarning: Do not pass an `input_shape`/`input_dim` argument to a layer. When using Sequential models, prefer using an `Input(shape)` object as the first layer in the model instead.\n",
            "  super().__init__(activity_regularizer=activity_regularizer, **kwargs)\n"
          ]
        },
        {
          "output_type": "stream",
          "name": "stdout",
          "text": [
            "2 Layers, 64 Units => MSE: 23.2357\n"
          ]
        },
        {
          "output_type": "stream",
          "name": "stderr",
          "text": [
            "/usr/local/lib/python3.11/dist-packages/keras/src/layers/core/dense.py:87: UserWarning: Do not pass an `input_shape`/`input_dim` argument to a layer. When using Sequential models, prefer using an `Input(shape)` object as the first layer in the model instead.\n",
            "  super().__init__(activity_regularizer=activity_regularizer, **kwargs)\n"
          ]
        },
        {
          "output_type": "stream",
          "name": "stdout",
          "text": [
            "3 Layers, 128 Units => MSE: 17.9586\n"
          ]
        },
        {
          "output_type": "stream",
          "name": "stderr",
          "text": [
            "/usr/local/lib/python3.11/dist-packages/keras/src/layers/core/dense.py:87: UserWarning: Do not pass an `input_shape`/`input_dim` argument to a layer. When using Sequential models, prefer using an `Input(shape)` object as the first layer in the model instead.\n",
            "  super().__init__(activity_regularizer=activity_regularizer, **kwargs)\n"
          ]
        },
        {
          "output_type": "stream",
          "name": "stdout",
          "text": [
            "2 Layers, 128 Units => MSE: 21.6084\n"
          ]
        },
        {
          "output_type": "stream",
          "name": "stderr",
          "text": [
            "/usr/local/lib/python3.11/dist-packages/keras/src/layers/core/dense.py:87: UserWarning: Do not pass an `input_shape`/`input_dim` argument to a layer. When using Sequential models, prefer using an `Input(shape)` object as the first layer in the model instead.\n",
            "  super().__init__(activity_regularizer=activity_regularizer, **kwargs)\n"
          ]
        },
        {
          "output_type": "stream",
          "name": "stdout",
          "text": [
            "3 Layers, 256 Units => MSE: 22.5286\n"
          ]
        },
        {
          "output_type": "display_data",
          "data": {
            "text/plain": [
              "<Figure size 1000x600 with 1 Axes>"
            ],
            "image/png": "[encoded data removed]"
          },
          "metadata": {}
        }
      ]
    }
  ]
}
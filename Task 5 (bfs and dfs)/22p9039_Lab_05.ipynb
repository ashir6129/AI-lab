{
 "cells": [
  {
   "cell_type": "code",
   "execution_count": 5,
   "id": "70442e03-a217-40a4-9374-d459f54041fe",
   "metadata": {},
   "outputs": [
    {
     "name": "stdin",
     "output_type": "stream",
     "text": [
      "Enter the file name to search (or type 'exit' to quit):  file.txt\n"
     ]
    },
    {
     "name": "stdout",
     "output_type": "stream",
     "text": [
      "Files found at paths: ['File not found.']\n"
     ]
    },
    {
     "name": "stdin",
     "output_type": "stream",
     "text": [
      "Enter the file name to search (or type 'exit' to quit):  file1.txt\n"
     ]
    },
    {
     "name": "stdout",
     "output_type": "stream",
     "text": [
      "Files found at paths: ['root/file1.txt']\n"
     ]
    },
    {
     "name": "stdin",
     "output_type": "stream",
     "text": [
      "Enter the file name to search (or type 'exit' to quit):  File1.txt\n"
     ]
    },
    {
     "name": "stdout",
     "output_type": "stream",
     "text": [
      "Files found at paths: ['File not found.']\n"
     ]
    },
    {
     "name": "stdin",
     "output_type": "stream",
     "text": [
      "Enter the file name to search (or type 'exit' to quit):  target_file.txt\n"
     ]
    },
    {
     "name": "stdout",
     "output_type": "stream",
     "text": [
      "Files found at paths: ['root/dir2/target_file.txt', 'root/dir1/subdir1/target_file.txt']\n"
     ]
    },
    {
     "name": "stdin",
     "output_type": "stream",
     "text": [
      "Enter the file name to search (or type 'exit' to quit):  target_file2.txt\n"
     ]
    },
    {
     "name": "stdout",
     "output_type": "stream",
     "text": [
      "Files found at paths: ['File not found.']\n"
     ]
    },
    {
     "name": "stdin",
     "output_type": "stream",
     "text": [
      "Enter the file name to search (or type 'exit' to quit):  file4.Txt\n"
     ]
    },
    {
     "name": "stdout",
     "output_type": "stream",
     "text": [
      "Files found at paths: ['File not found.']\n"
     ]
    },
    {
     "name": "stdin",
     "output_type": "stream",
     "text": [
      "Enter the file name to search (or type 'exit' to quit):  file4.txt\n"
     ]
    },
    {
     "name": "stdout",
     "output_type": "stream",
     "text": [
      "Files found at paths: ['root/dir2/file4.txt']\n"
     ]
    },
    {
     "name": "stdin",
     "output_type": "stream",
     "text": [
      "Enter the file name to search (or type 'exit' to quit):  exit\n"
     ]
    },
    {
     "name": "stdout",
     "output_type": "stream",
     "text": [
      "Exiting program.\n"
     ]
    }
   ],
   "source": [
    "def dfsFileSearch(directory, targetFile):\n",
    "    stack = [(\"root\", directory)]  \n",
    "    foundPaths = []\n",
    "\n",
    "    while stack:\n",
    "        currentPath, currentDir = stack.pop()\n",
    "\n",
    "        # Check files\n",
    "        for file in currentDir.get(\"files\", []):\n",
    "            if file == targetFile:  # Exact case-sensitive match\n",
    "                foundPaths.append(currentPath + \"/\" + file)\n",
    "\n",
    "        # Add subdirectories to stack\n",
    "        for subdirName, subdirContent in currentDir.get(\"directories\", {}).items():\n",
    "            stack.append((currentPath + \"/\" + subdirName, subdirContent))\n",
    "\n",
    "    return foundPaths if foundPaths else [\"File not found.\"]\n",
    "\n",
    "# Sample directory tree\n",
    "directoryTree = {\n",
    "    'root': {\n",
    "        'files': ['file1.txt', 'file2.txt'],\n",
    "        'directories': {\n",
    "            'dir1': {\n",
    "                'files': ['file3.txt'],\n",
    "                'directories': {\n",
    "                    'subdir1': {\n",
    "                        'files': ['target_file.txt'],\n",
    "                        'directories': {}\n",
    "                    }\n",
    "                }\n",
    "            },\n",
    "            'dir2': {\n",
    "                'files': ['file4.txt', 'target_file.txt'],\n",
    "                'directories': {\n",
    "                    'subdir2': {\n",
    "                        'files': ['file5.txt'],\n",
    "                        'directories': {}\n",
    "                    }\n",
    "                }\n",
    "            }\n",
    "        }\n",
    "    }\n",
    "}\n",
    "\n",
    "\n",
    "while True:\n",
    "    targetFileName = input(\"Enter the file name to search (or type 'exit' to quit): \").strip()\n",
    "\n",
    "    if targetFileName == \"exit\":\n",
    "        print(\"Exiting program.\")\n",
    "        break\n",
    "\n",
    "    # Searching for the file\n",
    "    paths = dfsFileSearch(directoryTree['root'], targetFileName)\n",
    "\n",
    "    # Output result\n",
    "    print(\"Files found at paths:\", paths)\n"
   ]
  },
  {
   "cell_type": "code",
   "execution_count": 7,
   "id": "fe69926f-7809-41df-b46e-4059382b307a",
   "metadata": {
    "scrolled": true
   },
   "outputs": [
    {
     "name": "stdin",
     "output_type": "stream",
     "text": [
      "Enter the user name for recommendations (or type 'exit' to quit):  ahmed\n"
     ]
    },
    {
     "name": "stdout",
     "output_type": "stream",
     "text": [
      "User not found in the social network. Try again.\n"
     ]
    },
    {
     "name": "stdin",
     "output_type": "stream",
     "text": [
      "Enter the user name for recommendations (or type 'exit' to quit):  Ahmad\n"
     ]
    },
    {
     "name": "stdout",
     "output_type": "stream",
     "text": [
      "User not found in the social network. Try again.\n"
     ]
    },
    {
     "name": "stdin",
     "output_type": "stream",
     "text": [
      "Enter the user name for recommendations (or type 'exit' to quit):  Ahmed\n"
     ]
    },
    {
     "name": "stdout",
     "output_type": "stream",
     "text": [
      "Recommendations for Ahmed: ['Emaan', 'Farhan', 'Danish']\n"
     ]
    },
    {
     "name": "stdin",
     "output_type": "stream",
     "text": [
      "Enter the user name for recommendations (or type 'exit' to quit):  Emaan\n"
     ]
    },
    {
     "name": "stdout",
     "output_type": "stream",
     "text": [
      "Recommendations for Emaan: ['Ahmed', 'Danish']\n"
     ]
    },
    {
     "name": "stdin",
     "output_type": "stream",
     "text": [
      "Enter the user name for recommendations (or type 'exit' to quit):  Gulzar\n"
     ]
    },
    {
     "name": "stdout",
     "output_type": "stream",
     "text": [
      "Recommendations for Gulzar: ['Bilal']\n"
     ]
    },
    {
     "name": "stdin",
     "output_type": "stream",
     "text": [
      "Enter the user name for recommendations (or type 'exit' to quit):  exit\n"
     ]
    },
    {
     "name": "stdout",
     "output_type": "stream",
     "text": [
      "Exiting program.\n"
     ]
    }
   ],
   "source": [
    "import networkx as nx\n",
    "from queue import Queue\n",
    "\n",
    "# BFS for finding users 2 degrees away\n",
    "def bfsTwoDegrees(graph, startUser):\n",
    "    visited = set()  \n",
    "    queue = Queue()\n",
    "    queue.put((startUser, 0))  # (currentUser, currentDegree)\n",
    "    visited.add(startUser)\n",
    "    \n",
    "    result = set()  # To store users two degrees away\n",
    "\n",
    "    while not queue.empty():\n",
    "        node, degree = queue.get()\n",
    "\n",
    "        # If we are at degree 2, add the user to the result (but exclude direct friends)\n",
    "        if degree == 2:\n",
    "            result.add(node)\n",
    "        \n",
    "        # Continue BFS for degree 1\n",
    "        if degree < 2:\n",
    "            for neighbor in graph.neighbors(node):\n",
    "                if neighbor not in visited and neighbor != startUser:\n",
    "                    visited.add(neighbor)\n",
    "                    queue.put((neighbor, degree + 1))\n",
    "\n",
    "    # Exclude direct friends and the user themselves from the result\n",
    "    result.discard(startUser)\n",
    "    directFriends = set(graph[startUser])  # Get direct friends of the start user\n",
    "    result.difference_update(directFriends)  # Remove direct friends from the result\n",
    "\n",
    "    return list(result) if result else [\"No recommendations.\"]\n",
    "\n",
    "# Sample social network data\n",
    "socialNetwork = {\n",
    "    'Ahmed': ['Bilal', 'Chaudhry'],\n",
    "    'Bilal': ['Ahmed', 'Danish', 'Emaan'],\n",
    "    'Chaudhry': ['Ahmed', 'Farhan'],\n",
    "    'Danish': ['Bilal', 'Gulzar'],\n",
    "    'Emaan': ['Bilal'],\n",
    "    'Farhan': ['Chaudhry'],\n",
    "    'Gulzar': ['Danish']\n",
    "}\n",
    "\n",
    "# Create the graph from the social network data\n",
    "G = nx.Graph(socialNetwork)\n",
    "\n",
    "# Keep asking for input until the user exits\n",
    "while True:\n",
    "    startUser = input(\"Enter the user name for recommendations (or type 'exit' to quit): \").strip()\n",
    "\n",
    "    if startUser == \"exit\":\n",
    "        print(\"Exiting program.\")\n",
    "        break\n",
    "\n",
    "    if startUser not in G.nodes:\n",
    "        print(\"User not found in the social network. Try again.\")\n",
    "        continue\n",
    "\n",
    "    # Get recommendations (2-degree users)\n",
    "    recommendations = bfsTwoDegrees(G, startUser)\n",
    "\n",
    "    # Output the recommendations\n",
    "    print(f\"Recommendations for {startUser}: {recommendations}\")\n"
   ]
  },
  {
   "cell_type": "markdown",
   "id": "791e1951-41c8-4c55-95dd-23000c8e8a09",
   "metadata": {},
   "source": [
    "When Emaan is chosen, the algorithm finds users who are exactly two degrees away (friends of friends but NOT direct friends).\n",
    "\n",
    "Process:\n",
    "Starts at Emaan (Degree 0)\n",
    "\n",
    "Direct friend: Bilal → Added to the queue.\n",
    "Moves to Bilal (Degree 1)\n",
    "\n",
    "Bilal’s friends: Ahmed, Danish, Emaan\n",
    "Emaan is skipped (already visited).\n",
    "Ahmed and Danish are added to the queue (Degree 2).\n",
    "Reaches Degree 2\n",
    "\n",
    "Ahmed and Danish are added to the result.\n",
    "Direct friends (Bilal) are excluded.\n",
    "Final Recommendations for Emaan:\n",
    " Ahmed, Danish (because they are two degrees away).\n",
    " Bilal is excluded (direct friend).\n",
    " Others (Gulzar, Chaudhry, Farhan) are not two degrees away).\n",
    "\n",
    " Output:\n",
    " Recommendations for Emaan: ['Ahmed', 'Danish']"
   ]
  },
  {
   "cell_type": "code",
   "execution_count": null,
   "id": "b776ecd5-a89b-427f-b5dc-30c06fb7d90c",
   "metadata": {},
   "outputs": [],
   "source": []
  },
  {
   "cell_type": "markdown",
   "id": "9ff754a7-915f-4d94-8ee5-887498706200",
   "metadata": {},
   "source": [
    "When Gulzar is chosen, the algorithm finds users two degrees away (friends of friends but NOT direct friends).\n",
    "\n",
    "Summary:\n",
    "Starts at Gulzar (Degree 0)\n",
    "\n",
    "Direct friend: Danish → Added to the queue.\n",
    "Moves to Danish (Degree 1)\n",
    "\n",
    "Danish’s friends: Bilal, Gulzar\n",
    "Gulzar is skipped (already visited).\n",
    "Bilal is added to the queue (Degree 2).\n",
    "Reaches Degree 2\n",
    "\n",
    "Bilal is added to the result.\n",
    "Direct friends (Danish) are excluded.\n",
    "Final Recommendations for Gulzar:\n",
    " Bilal (two degrees away).\n",
    " Danish is excluded (direct friend).\n",
    " **Others (Ahmed, Chaudhry, Emaan, Farhan) are not two degrees away).\n",
    "\n",
    "Output:\n",
    "Recommendations for Gulzar: ['Bilal']"
   ]
  }
 ],
 "metadata": {
  "kernelspec": {
   "display_name": "Python 3 (ipykernel)",
   "language": "python",
   "name": "python3"
  },
  "language_info": {
   "codemirror_mode": {
    "name": "ipython",
    "version": 3
   },
   "file_extension": ".py",
   "mimetype": "text/x-python",
   "name": "python",
   "nbconvert_exporter": "python",
   "pygments_lexer": "ipython3",
   "version": "3.13.2"
  }
 },
 "nbformat": 4,
 "nbformat_minor": 5
}
